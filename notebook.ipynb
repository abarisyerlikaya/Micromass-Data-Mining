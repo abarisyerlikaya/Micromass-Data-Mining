{
 "cells": [
  {
   "cell_type": "markdown",
   "metadata": {
    "id": "bhL4yVy1qKTZ"
   },
   "source": [
    "# 1. Data Analysis\n",
    "The dataset includes pure and mixed mass spectra represented by 1300 columns of bacteria samples: \n",
    "\n",
    "571 pure + 360 mixed = 931 in total. \n",
    "\n",
    "Information about significance of spectrum variables is not provided. We consider every feature is equally significant. \n",
    "\n",
    "Dataset also contains some additional columns like species, strain, mixture ratio, etc. but it is not possible to use most of this additional columns for classification and clustering.\n",
    "\n",
    "\n"
   ]
  },
  {
   "cell_type": "markdown",
   "metadata": {
    "id": "AWCZfEE64maN"
   },
   "source": [
    "## a. Dataset Review"
   ]
  },
  {
   "cell_type": "markdown",
   "metadata": {
    "id": "IZ3J9bwO17l6"
   },
   "source": [
    "Reading pure spectra data and metadata as dataframe"
   ]
  },
  {
   "cell_type": "code",
   "execution_count": 1,
   "metadata": {
    "id": "bIf1XjdI13ZR"
   },
   "outputs": [],
   "source": [
    "import pandas as pd\n",
    "\n",
    "pure_spectra_df = pd.read_csv('data/pure_spectra_matrix.csv', sep=';', header=None)\n",
    "pure_spectra_meta_df = pd.read_csv('data/pure_spectra_metadata.csv', sep=';')"
   ]
  },
  {
   "cell_type": "markdown",
   "metadata": {
    "id": "yWjvMCqy1-Fx"
   },
   "source": [
    "Reading mixed spectra data and metadata as dataframe"
   ]
  },
  {
   "cell_type": "code",
   "execution_count": 2,
   "metadata": {
    "id": "A92lNuNE13P8"
   },
   "outputs": [],
   "source": [
    "mixed_spectra_df = pd.read_csv('data/mixed_spectra_matrix.csv', sep=';', header=None)\n",
    "mixed_spectra_meta_df = pd.read_csv('data/mixed_spectra_metadata.csv', sep=';')"
   ]
  },
  {
   "cell_type": "markdown",
   "metadata": {
    "id": "Uv5frUHtpQ81"
   },
   "source": [
    "### I. Pure Spectra Matrix\n",
    "In this dataframe, each row reperesents the mass spectrum of a single pure bacterium sample. Each spectrum consists of 1300 variables. Each column represents a variable. \n",
    "\n",
    "We have 571 oure bacteria, each with a spectrum defined by 1300 variables."
   ]
  },
  {
   "cell_type": "code",
   "execution_count": 3,
   "metadata": {
    "colab": {
     "base_uri": "https://localhost:8080/",
     "height": 422
    },
    "id": "Qs-x-CWIpQ81",
    "outputId": "9b35341a-ac81-4658-8e47-a10931e4433e"
   },
   "outputs": [
    {
     "data": {
      "text/html": [
       "<div>\n",
       "<style scoped>\n",
       "    .dataframe tbody tr th:only-of-type {\n",
       "        vertical-align: middle;\n",
       "    }\n",
       "\n",
       "    .dataframe tbody tr th {\n",
       "        vertical-align: top;\n",
       "    }\n",
       "\n",
       "    .dataframe thead th {\n",
       "        text-align: right;\n",
       "    }\n",
       "</style>\n",
       "<table border=\"1\" class=\"dataframe\">\n",
       "  <thead>\n",
       "    <tr style=\"text-align: right;\">\n",
       "      <th></th>\n",
       "      <th>0</th>\n",
       "      <th>1</th>\n",
       "      <th>2</th>\n",
       "      <th>3</th>\n",
       "      <th>4</th>\n",
       "      <th>5</th>\n",
       "      <th>6</th>\n",
       "      <th>7</th>\n",
       "      <th>8</th>\n",
       "      <th>9</th>\n",
       "      <th>...</th>\n",
       "      <th>1290</th>\n",
       "      <th>1291</th>\n",
       "      <th>1292</th>\n",
       "      <th>1293</th>\n",
       "      <th>1294</th>\n",
       "      <th>1295</th>\n",
       "      <th>1296</th>\n",
       "      <th>1297</th>\n",
       "      <th>1298</th>\n",
       "      <th>1299</th>\n",
       "    </tr>\n",
       "  </thead>\n",
       "  <tbody>\n",
       "    <tr>\n",
       "      <th>0</th>\n",
       "      <td>0</td>\n",
       "      <td>0</td>\n",
       "      <td>0.0000</td>\n",
       "      <td>0.0</td>\n",
       "      <td>0.0</td>\n",
       "      <td>0</td>\n",
       "      <td>44431.921875</td>\n",
       "      <td>0.0</td>\n",
       "      <td>0.0</td>\n",
       "      <td>0.0</td>\n",
       "      <td>...</td>\n",
       "      <td>0.000000</td>\n",
       "      <td>0.0</td>\n",
       "      <td>0</td>\n",
       "      <td>0.0</td>\n",
       "      <td>0.000000</td>\n",
       "      <td>0.0</td>\n",
       "      <td>0.0</td>\n",
       "      <td>0.0</td>\n",
       "      <td>0.000000</td>\n",
       "      <td>0.0</td>\n",
       "    </tr>\n",
       "    <tr>\n",
       "      <th>1</th>\n",
       "      <td>0</td>\n",
       "      <td>0</td>\n",
       "      <td>0.0000</td>\n",
       "      <td>0.0</td>\n",
       "      <td>0.0</td>\n",
       "      <td>0</td>\n",
       "      <td>0.000000</td>\n",
       "      <td>0.0</td>\n",
       "      <td>0.0</td>\n",
       "      <td>0.0</td>\n",
       "      <td>...</td>\n",
       "      <td>27667.777344</td>\n",
       "      <td>0.0</td>\n",
       "      <td>0</td>\n",
       "      <td>0.0</td>\n",
       "      <td>35438.351562</td>\n",
       "      <td>0.0</td>\n",
       "      <td>0.0</td>\n",
       "      <td>0.0</td>\n",
       "      <td>0.000000</td>\n",
       "      <td>0.0</td>\n",
       "    </tr>\n",
       "    <tr>\n",
       "      <th>2</th>\n",
       "      <td>0</td>\n",
       "      <td>0</td>\n",
       "      <td>0.0000</td>\n",
       "      <td>0.0</td>\n",
       "      <td>0.0</td>\n",
       "      <td>0</td>\n",
       "      <td>0.000000</td>\n",
       "      <td>0.0</td>\n",
       "      <td>0.0</td>\n",
       "      <td>0.0</td>\n",
       "      <td>...</td>\n",
       "      <td>59820.968750</td>\n",
       "      <td>0.0</td>\n",
       "      <td>0</td>\n",
       "      <td>0.0</td>\n",
       "      <td>6384.590820</td>\n",
       "      <td>0.0</td>\n",
       "      <td>0.0</td>\n",
       "      <td>0.0</td>\n",
       "      <td>0.000000</td>\n",
       "      <td>0.0</td>\n",
       "    </tr>\n",
       "    <tr>\n",
       "      <th>3</th>\n",
       "      <td>0</td>\n",
       "      <td>0</td>\n",
       "      <td>0.0000</td>\n",
       "      <td>0.0</td>\n",
       "      <td>0.0</td>\n",
       "      <td>0</td>\n",
       "      <td>0.000000</td>\n",
       "      <td>0.0</td>\n",
       "      <td>0.0</td>\n",
       "      <td>0.0</td>\n",
       "      <td>...</td>\n",
       "      <td>0.000000</td>\n",
       "      <td>0.0</td>\n",
       "      <td>0</td>\n",
       "      <td>0.0</td>\n",
       "      <td>0.000000</td>\n",
       "      <td>0.0</td>\n",
       "      <td>0.0</td>\n",
       "      <td>0.0</td>\n",
       "      <td>0.000000</td>\n",
       "      <td>0.0</td>\n",
       "    </tr>\n",
       "    <tr>\n",
       "      <th>4</th>\n",
       "      <td>0</td>\n",
       "      <td>0</td>\n",
       "      <td>0.0000</td>\n",
       "      <td>0.0</td>\n",
       "      <td>0.0</td>\n",
       "      <td>0</td>\n",
       "      <td>4701.712402</td>\n",
       "      <td>0.0</td>\n",
       "      <td>0.0</td>\n",
       "      <td>0.0</td>\n",
       "      <td>...</td>\n",
       "      <td>3913.969727</td>\n",
       "      <td>0.0</td>\n",
       "      <td>0</td>\n",
       "      <td>0.0</td>\n",
       "      <td>0.000000</td>\n",
       "      <td>0.0</td>\n",
       "      <td>0.0</td>\n",
       "      <td>0.0</td>\n",
       "      <td>0.000000</td>\n",
       "      <td>0.0</td>\n",
       "    </tr>\n",
       "    <tr>\n",
       "      <th>...</th>\n",
       "      <td>...</td>\n",
       "      <td>...</td>\n",
       "      <td>...</td>\n",
       "      <td>...</td>\n",
       "      <td>...</td>\n",
       "      <td>...</td>\n",
       "      <td>...</td>\n",
       "      <td>...</td>\n",
       "      <td>...</td>\n",
       "      <td>...</td>\n",
       "      <td>...</td>\n",
       "      <td>...</td>\n",
       "      <td>...</td>\n",
       "      <td>...</td>\n",
       "      <td>...</td>\n",
       "      <td>...</td>\n",
       "      <td>...</td>\n",
       "      <td>...</td>\n",
       "      <td>...</td>\n",
       "      <td>...</td>\n",
       "      <td>...</td>\n",
       "    </tr>\n",
       "    <tr>\n",
       "      <th>566</th>\n",
       "      <td>0</td>\n",
       "      <td>0</td>\n",
       "      <td>0.0000</td>\n",
       "      <td>0.0</td>\n",
       "      <td>0.0</td>\n",
       "      <td>0</td>\n",
       "      <td>0.000000</td>\n",
       "      <td>0.0</td>\n",
       "      <td>0.0</td>\n",
       "      <td>0.0</td>\n",
       "      <td>...</td>\n",
       "      <td>0.000000</td>\n",
       "      <td>0.0</td>\n",
       "      <td>0</td>\n",
       "      <td>0.0</td>\n",
       "      <td>0.000000</td>\n",
       "      <td>0.0</td>\n",
       "      <td>0.0</td>\n",
       "      <td>0.0</td>\n",
       "      <td>0.000000</td>\n",
       "      <td>0.0</td>\n",
       "    </tr>\n",
       "    <tr>\n",
       "      <th>567</th>\n",
       "      <td>0</td>\n",
       "      <td>0</td>\n",
       "      <td>0.0000</td>\n",
       "      <td>0.0</td>\n",
       "      <td>0.0</td>\n",
       "      <td>0</td>\n",
       "      <td>0.000000</td>\n",
       "      <td>0.0</td>\n",
       "      <td>0.0</td>\n",
       "      <td>0.0</td>\n",
       "      <td>...</td>\n",
       "      <td>0.000000</td>\n",
       "      <td>0.0</td>\n",
       "      <td>0</td>\n",
       "      <td>0.0</td>\n",
       "      <td>0.000000</td>\n",
       "      <td>0.0</td>\n",
       "      <td>0.0</td>\n",
       "      <td>0.0</td>\n",
       "      <td>0.000000</td>\n",
       "      <td>0.0</td>\n",
       "    </tr>\n",
       "    <tr>\n",
       "      <th>568</th>\n",
       "      <td>0</td>\n",
       "      <td>0</td>\n",
       "      <td>0.0000</td>\n",
       "      <td>0.0</td>\n",
       "      <td>0.0</td>\n",
       "      <td>0</td>\n",
       "      <td>0.000000</td>\n",
       "      <td>0.0</td>\n",
       "      <td>0.0</td>\n",
       "      <td>0.0</td>\n",
       "      <td>...</td>\n",
       "      <td>0.000000</td>\n",
       "      <td>0.0</td>\n",
       "      <td>0</td>\n",
       "      <td>0.0</td>\n",
       "      <td>0.000000</td>\n",
       "      <td>0.0</td>\n",
       "      <td>0.0</td>\n",
       "      <td>0.0</td>\n",
       "      <td>24808.794922</td>\n",
       "      <td>0.0</td>\n",
       "    </tr>\n",
       "    <tr>\n",
       "      <th>569</th>\n",
       "      <td>0</td>\n",
       "      <td>0</td>\n",
       "      <td>145578.5625</td>\n",
       "      <td>0.0</td>\n",
       "      <td>0.0</td>\n",
       "      <td>0</td>\n",
       "      <td>0.000000</td>\n",
       "      <td>0.0</td>\n",
       "      <td>0.0</td>\n",
       "      <td>0.0</td>\n",
       "      <td>...</td>\n",
       "      <td>0.000000</td>\n",
       "      <td>0.0</td>\n",
       "      <td>0</td>\n",
       "      <td>0.0</td>\n",
       "      <td>0.000000</td>\n",
       "      <td>0.0</td>\n",
       "      <td>0.0</td>\n",
       "      <td>0.0</td>\n",
       "      <td>0.000000</td>\n",
       "      <td>0.0</td>\n",
       "    </tr>\n",
       "    <tr>\n",
       "      <th>570</th>\n",
       "      <td>0</td>\n",
       "      <td>0</td>\n",
       "      <td>626135.8125</td>\n",
       "      <td>0.0</td>\n",
       "      <td>0.0</td>\n",
       "      <td>0</td>\n",
       "      <td>0.000000</td>\n",
       "      <td>0.0</td>\n",
       "      <td>0.0</td>\n",
       "      <td>0.0</td>\n",
       "      <td>...</td>\n",
       "      <td>43746.761719</td>\n",
       "      <td>0.0</td>\n",
       "      <td>0</td>\n",
       "      <td>0.0</td>\n",
       "      <td>0.000000</td>\n",
       "      <td>0.0</td>\n",
       "      <td>0.0</td>\n",
       "      <td>0.0</td>\n",
       "      <td>0.000000</td>\n",
       "      <td>0.0</td>\n",
       "    </tr>\n",
       "  </tbody>\n",
       "</table>\n",
       "<p>571 rows × 1300 columns</p>\n",
       "</div>"
      ],
      "text/plain": [
       "     0     1            2     3     4     5             6     7     8     \\\n",
       "0       0     0       0.0000   0.0   0.0     0  44431.921875   0.0   0.0   \n",
       "1       0     0       0.0000   0.0   0.0     0      0.000000   0.0   0.0   \n",
       "2       0     0       0.0000   0.0   0.0     0      0.000000   0.0   0.0   \n",
       "3       0     0       0.0000   0.0   0.0     0      0.000000   0.0   0.0   \n",
       "4       0     0       0.0000   0.0   0.0     0   4701.712402   0.0   0.0   \n",
       "..    ...   ...          ...   ...   ...   ...           ...   ...   ...   \n",
       "566     0     0       0.0000   0.0   0.0     0      0.000000   0.0   0.0   \n",
       "567     0     0       0.0000   0.0   0.0     0      0.000000   0.0   0.0   \n",
       "568     0     0       0.0000   0.0   0.0     0      0.000000   0.0   0.0   \n",
       "569     0     0  145578.5625   0.0   0.0     0      0.000000   0.0   0.0   \n",
       "570     0     0  626135.8125   0.0   0.0     0      0.000000   0.0   0.0   \n",
       "\n",
       "     9     ...          1290  1291  1292  1293          1294  1295  1296  \\\n",
       "0     0.0  ...      0.000000   0.0     0   0.0      0.000000   0.0   0.0   \n",
       "1     0.0  ...  27667.777344   0.0     0   0.0  35438.351562   0.0   0.0   \n",
       "2     0.0  ...  59820.968750   0.0     0   0.0   6384.590820   0.0   0.0   \n",
       "3     0.0  ...      0.000000   0.0     0   0.0      0.000000   0.0   0.0   \n",
       "4     0.0  ...   3913.969727   0.0     0   0.0      0.000000   0.0   0.0   \n",
       "..    ...  ...           ...   ...   ...   ...           ...   ...   ...   \n",
       "566   0.0  ...      0.000000   0.0     0   0.0      0.000000   0.0   0.0   \n",
       "567   0.0  ...      0.000000   0.0     0   0.0      0.000000   0.0   0.0   \n",
       "568   0.0  ...      0.000000   0.0     0   0.0      0.000000   0.0   0.0   \n",
       "569   0.0  ...      0.000000   0.0     0   0.0      0.000000   0.0   0.0   \n",
       "570   0.0  ...  43746.761719   0.0     0   0.0      0.000000   0.0   0.0   \n",
       "\n",
       "     1297          1298  1299  \n",
       "0     0.0      0.000000   0.0  \n",
       "1     0.0      0.000000   0.0  \n",
       "2     0.0      0.000000   0.0  \n",
       "3     0.0      0.000000   0.0  \n",
       "4     0.0      0.000000   0.0  \n",
       "..    ...           ...   ...  \n",
       "566   0.0      0.000000   0.0  \n",
       "567   0.0      0.000000   0.0  \n",
       "568   0.0  24808.794922   0.0  \n",
       "569   0.0      0.000000   0.0  \n",
       "570   0.0      0.000000   0.0  \n",
       "\n",
       "[571 rows x 1300 columns]"
      ]
     },
     "execution_count": 3,
     "metadata": {},
     "output_type": "execute_result"
    }
   ],
   "source": [
    "pure_spectra_df"
   ]
  },
  {
   "cell_type": "markdown",
   "metadata": {
    "id": "p0YBQGnFvaqA"
   },
   "source": [
    "### II. Pure Spectra Metadata\n",
    "This dataframe identifies every single pure bacterium sample by species and strain columns."
   ]
  },
  {
   "cell_type": "code",
   "execution_count": 4,
   "metadata": {
    "colab": {
     "base_uri": "https://localhost:8080/",
     "height": 402
    },
    "id": "cFMXT0k7pQ82",
    "outputId": "2c2f02a1-9eaf-44b6-bd43-acacadce948c"
   },
   "outputs": [
    {
     "data": {
      "text/html": [
       "<div>\n",
       "<style scoped>\n",
       "    .dataframe tbody tr th:only-of-type {\n",
       "        vertical-align: middle;\n",
       "    }\n",
       "\n",
       "    .dataframe tbody tr th {\n",
       "        vertical-align: top;\n",
       "    }\n",
       "\n",
       "    .dataframe thead th {\n",
       "        text-align: right;\n",
       "    }\n",
       "</style>\n",
       "<table border=\"1\" class=\"dataframe\">\n",
       "  <thead>\n",
       "    <tr style=\"text-align: right;\">\n",
       "      <th></th>\n",
       "      <th>Species</th>\n",
       "      <th>Strain</th>\n",
       "    </tr>\n",
       "  </thead>\n",
       "  <tbody>\n",
       "    <tr>\n",
       "      <th>0</th>\n",
       "      <td>RTO.TQH</td>\n",
       "      <td>1</td>\n",
       "    </tr>\n",
       "    <tr>\n",
       "      <th>1</th>\n",
       "      <td>BUT.YZE</td>\n",
       "      <td>2</td>\n",
       "    </tr>\n",
       "    <tr>\n",
       "      <th>2</th>\n",
       "      <td>BUT.YZE</td>\n",
       "      <td>2</td>\n",
       "    </tr>\n",
       "    <tr>\n",
       "      <th>3</th>\n",
       "      <td>BUT.YZE</td>\n",
       "      <td>2</td>\n",
       "    </tr>\n",
       "    <tr>\n",
       "      <th>4</th>\n",
       "      <td>BUT.YZE</td>\n",
       "      <td>2</td>\n",
       "    </tr>\n",
       "    <tr>\n",
       "      <th>...</th>\n",
       "      <td>...</td>\n",
       "      <td>...</td>\n",
       "    </tr>\n",
       "    <tr>\n",
       "      <th>566</th>\n",
       "      <td>VVJ.KWJ</td>\n",
       "      <td>212</td>\n",
       "    </tr>\n",
       "    <tr>\n",
       "      <th>567</th>\n",
       "      <td>VVJ.KWJ</td>\n",
       "      <td>212</td>\n",
       "    </tr>\n",
       "    <tr>\n",
       "      <th>568</th>\n",
       "      <td>VVJ.KWJ</td>\n",
       "      <td>212</td>\n",
       "    </tr>\n",
       "    <tr>\n",
       "      <th>569</th>\n",
       "      <td>QBG.CRP</td>\n",
       "      <td>213</td>\n",
       "    </tr>\n",
       "    <tr>\n",
       "      <th>570</th>\n",
       "      <td>QBG.CRP</td>\n",
       "      <td>213</td>\n",
       "    </tr>\n",
       "  </tbody>\n",
       "</table>\n",
       "<p>571 rows × 2 columns</p>\n",
       "</div>"
      ],
      "text/plain": [
       "     Species  Strain\n",
       "0    RTO.TQH       1\n",
       "1    BUT.YZE       2\n",
       "2    BUT.YZE       2\n",
       "3    BUT.YZE       2\n",
       "4    BUT.YZE       2\n",
       "..       ...     ...\n",
       "566  VVJ.KWJ     212\n",
       "567  VVJ.KWJ     212\n",
       "568  VVJ.KWJ     212\n",
       "569  QBG.CRP     213\n",
       "570  QBG.CRP     213\n",
       "\n",
       "[571 rows x 2 columns]"
      ]
     },
     "execution_count": 4,
     "metadata": {},
     "output_type": "execute_result"
    }
   ],
   "source": [
    "pure_spectra_meta_df"
   ]
  },
  {
   "cell_type": "markdown",
   "metadata": {
    "id": "lrh0E81X5AwS"
   },
   "source": [
    "### III. Mixed Spectra Matrix\n",
    "In this dataframe, each row reperesents the mass spectrum of a single mixed bacterium sample. Each spectrum consists of 1300 variables. Each column represents a variable.\n",
    "\n",
    "We have 360 mixed bacteria, each with a spectrum defined by 1300 variables."
   ]
  },
  {
   "cell_type": "code",
   "execution_count": 5,
   "metadata": {
    "colab": {
     "base_uri": "https://localhost:8080/",
     "height": 422
    },
    "id": "Uka31meHpQ83",
    "outputId": "d17b9a9f-2ed2-43c8-f3d1-9aec44c12c8e"
   },
   "outputs": [
    {
     "data": {
      "text/html": [
       "<div>\n",
       "<style scoped>\n",
       "    .dataframe tbody tr th:only-of-type {\n",
       "        vertical-align: middle;\n",
       "    }\n",
       "\n",
       "    .dataframe tbody tr th {\n",
       "        vertical-align: top;\n",
       "    }\n",
       "\n",
       "    .dataframe thead th {\n",
       "        text-align: right;\n",
       "    }\n",
       "</style>\n",
       "<table border=\"1\" class=\"dataframe\">\n",
       "  <thead>\n",
       "    <tr style=\"text-align: right;\">\n",
       "      <th></th>\n",
       "      <th>0</th>\n",
       "      <th>1</th>\n",
       "      <th>2</th>\n",
       "      <th>3</th>\n",
       "      <th>4</th>\n",
       "      <th>5</th>\n",
       "      <th>6</th>\n",
       "      <th>7</th>\n",
       "      <th>8</th>\n",
       "      <th>9</th>\n",
       "      <th>...</th>\n",
       "      <th>1290</th>\n",
       "      <th>1291</th>\n",
       "      <th>1292</th>\n",
       "      <th>1293</th>\n",
       "      <th>1294</th>\n",
       "      <th>1295</th>\n",
       "      <th>1296</th>\n",
       "      <th>1297</th>\n",
       "      <th>1298</th>\n",
       "      <th>1299</th>\n",
       "    </tr>\n",
       "  </thead>\n",
       "  <tbody>\n",
       "    <tr>\n",
       "      <th>0</th>\n",
       "      <td>0</td>\n",
       "      <td>0.0</td>\n",
       "      <td>0.0</td>\n",
       "      <td>0.0</td>\n",
       "      <td>0.0</td>\n",
       "      <td>0</td>\n",
       "      <td>0.0</td>\n",
       "      <td>0.0</td>\n",
       "      <td>0.000000</td>\n",
       "      <td>0.000000</td>\n",
       "      <td>...</td>\n",
       "      <td>0.0</td>\n",
       "      <td>0</td>\n",
       "      <td>0</td>\n",
       "      <td>0.0</td>\n",
       "      <td>0.0</td>\n",
       "      <td>0.0</td>\n",
       "      <td>0.000000</td>\n",
       "      <td>0.0</td>\n",
       "      <td>0.0</td>\n",
       "      <td>0.000000</td>\n",
       "    </tr>\n",
       "    <tr>\n",
       "      <th>1</th>\n",
       "      <td>0</td>\n",
       "      <td>0.0</td>\n",
       "      <td>0.0</td>\n",
       "      <td>0.0</td>\n",
       "      <td>0.0</td>\n",
       "      <td>0</td>\n",
       "      <td>0.0</td>\n",
       "      <td>0.0</td>\n",
       "      <td>0.000000</td>\n",
       "      <td>10162.613281</td>\n",
       "      <td>...</td>\n",
       "      <td>0.0</td>\n",
       "      <td>0</td>\n",
       "      <td>0</td>\n",
       "      <td>0.0</td>\n",
       "      <td>0.0</td>\n",
       "      <td>0.0</td>\n",
       "      <td>11427.124023</td>\n",
       "      <td>0.0</td>\n",
       "      <td>0.0</td>\n",
       "      <td>0.000000</td>\n",
       "    </tr>\n",
       "    <tr>\n",
       "      <th>2</th>\n",
       "      <td>0</td>\n",
       "      <td>0.0</td>\n",
       "      <td>0.0</td>\n",
       "      <td>0.0</td>\n",
       "      <td>0.0</td>\n",
       "      <td>0</td>\n",
       "      <td>0.0</td>\n",
       "      <td>0.0</td>\n",
       "      <td>0.000000</td>\n",
       "      <td>0.000000</td>\n",
       "      <td>...</td>\n",
       "      <td>0.0</td>\n",
       "      <td>0</td>\n",
       "      <td>0</td>\n",
       "      <td>0.0</td>\n",
       "      <td>0.0</td>\n",
       "      <td>0.0</td>\n",
       "      <td>12094.415039</td>\n",
       "      <td>0.0</td>\n",
       "      <td>0.0</td>\n",
       "      <td>0.000000</td>\n",
       "    </tr>\n",
       "    <tr>\n",
       "      <th>3</th>\n",
       "      <td>0</td>\n",
       "      <td>0.0</td>\n",
       "      <td>0.0</td>\n",
       "      <td>0.0</td>\n",
       "      <td>0.0</td>\n",
       "      <td>0</td>\n",
       "      <td>0.0</td>\n",
       "      <td>0.0</td>\n",
       "      <td>0.000000</td>\n",
       "      <td>0.000000</td>\n",
       "      <td>...</td>\n",
       "      <td>0.0</td>\n",
       "      <td>0</td>\n",
       "      <td>0</td>\n",
       "      <td>0.0</td>\n",
       "      <td>0.0</td>\n",
       "      <td>0.0</td>\n",
       "      <td>0.000000</td>\n",
       "      <td>0.0</td>\n",
       "      <td>0.0</td>\n",
       "      <td>0.000000</td>\n",
       "    </tr>\n",
       "    <tr>\n",
       "      <th>4</th>\n",
       "      <td>0</td>\n",
       "      <td>0.0</td>\n",
       "      <td>0.0</td>\n",
       "      <td>0.0</td>\n",
       "      <td>0.0</td>\n",
       "      <td>0</td>\n",
       "      <td>0.0</td>\n",
       "      <td>0.0</td>\n",
       "      <td>0.000000</td>\n",
       "      <td>15409.125977</td>\n",
       "      <td>...</td>\n",
       "      <td>0.0</td>\n",
       "      <td>0</td>\n",
       "      <td>0</td>\n",
       "      <td>0.0</td>\n",
       "      <td>0.0</td>\n",
       "      <td>0.0</td>\n",
       "      <td>0.000000</td>\n",
       "      <td>0.0</td>\n",
       "      <td>0.0</td>\n",
       "      <td>35418.402344</td>\n",
       "    </tr>\n",
       "    <tr>\n",
       "      <th>...</th>\n",
       "      <td>...</td>\n",
       "      <td>...</td>\n",
       "      <td>...</td>\n",
       "      <td>...</td>\n",
       "      <td>...</td>\n",
       "      <td>...</td>\n",
       "      <td>...</td>\n",
       "      <td>...</td>\n",
       "      <td>...</td>\n",
       "      <td>...</td>\n",
       "      <td>...</td>\n",
       "      <td>...</td>\n",
       "      <td>...</td>\n",
       "      <td>...</td>\n",
       "      <td>...</td>\n",
       "      <td>...</td>\n",
       "      <td>...</td>\n",
       "      <td>...</td>\n",
       "      <td>...</td>\n",
       "      <td>...</td>\n",
       "      <td>...</td>\n",
       "    </tr>\n",
       "    <tr>\n",
       "      <th>355</th>\n",
       "      <td>0</td>\n",
       "      <td>0.0</td>\n",
       "      <td>0.0</td>\n",
       "      <td>0.0</td>\n",
       "      <td>0.0</td>\n",
       "      <td>0</td>\n",
       "      <td>0.0</td>\n",
       "      <td>0.0</td>\n",
       "      <td>31279.455078</td>\n",
       "      <td>0.000000</td>\n",
       "      <td>...</td>\n",
       "      <td>0.0</td>\n",
       "      <td>0</td>\n",
       "      <td>0</td>\n",
       "      <td>0.0</td>\n",
       "      <td>0.0</td>\n",
       "      <td>0.0</td>\n",
       "      <td>0.000000</td>\n",
       "      <td>0.0</td>\n",
       "      <td>0.0</td>\n",
       "      <td>0.000000</td>\n",
       "    </tr>\n",
       "    <tr>\n",
       "      <th>356</th>\n",
       "      <td>0</td>\n",
       "      <td>0.0</td>\n",
       "      <td>0.0</td>\n",
       "      <td>0.0</td>\n",
       "      <td>0.0</td>\n",
       "      <td>0</td>\n",
       "      <td>0.0</td>\n",
       "      <td>0.0</td>\n",
       "      <td>31064.574219</td>\n",
       "      <td>0.000000</td>\n",
       "      <td>...</td>\n",
       "      <td>0.0</td>\n",
       "      <td>0</td>\n",
       "      <td>0</td>\n",
       "      <td>0.0</td>\n",
       "      <td>0.0</td>\n",
       "      <td>0.0</td>\n",
       "      <td>0.000000</td>\n",
       "      <td>0.0</td>\n",
       "      <td>0.0</td>\n",
       "      <td>0.000000</td>\n",
       "    </tr>\n",
       "    <tr>\n",
       "      <th>357</th>\n",
       "      <td>0</td>\n",
       "      <td>0.0</td>\n",
       "      <td>0.0</td>\n",
       "      <td>0.0</td>\n",
       "      <td>0.0</td>\n",
       "      <td>0</td>\n",
       "      <td>0.0</td>\n",
       "      <td>0.0</td>\n",
       "      <td>17840.945312</td>\n",
       "      <td>0.000000</td>\n",
       "      <td>...</td>\n",
       "      <td>0.0</td>\n",
       "      <td>0</td>\n",
       "      <td>0</td>\n",
       "      <td>0.0</td>\n",
       "      <td>0.0</td>\n",
       "      <td>0.0</td>\n",
       "      <td>0.000000</td>\n",
       "      <td>0.0</td>\n",
       "      <td>0.0</td>\n",
       "      <td>0.000000</td>\n",
       "    </tr>\n",
       "    <tr>\n",
       "      <th>358</th>\n",
       "      <td>0</td>\n",
       "      <td>0.0</td>\n",
       "      <td>0.0</td>\n",
       "      <td>0.0</td>\n",
       "      <td>0.0</td>\n",
       "      <td>0</td>\n",
       "      <td>0.0</td>\n",
       "      <td>0.0</td>\n",
       "      <td>82506.257812</td>\n",
       "      <td>0.000000</td>\n",
       "      <td>...</td>\n",
       "      <td>0.0</td>\n",
       "      <td>0</td>\n",
       "      <td>0</td>\n",
       "      <td>0.0</td>\n",
       "      <td>0.0</td>\n",
       "      <td>0.0</td>\n",
       "      <td>0.000000</td>\n",
       "      <td>0.0</td>\n",
       "      <td>0.0</td>\n",
       "      <td>0.000000</td>\n",
       "    </tr>\n",
       "    <tr>\n",
       "      <th>359</th>\n",
       "      <td>0</td>\n",
       "      <td>0.0</td>\n",
       "      <td>0.0</td>\n",
       "      <td>0.0</td>\n",
       "      <td>0.0</td>\n",
       "      <td>0</td>\n",
       "      <td>0.0</td>\n",
       "      <td>0.0</td>\n",
       "      <td>52676.558594</td>\n",
       "      <td>0.000000</td>\n",
       "      <td>...</td>\n",
       "      <td>0.0</td>\n",
       "      <td>0</td>\n",
       "      <td>0</td>\n",
       "      <td>0.0</td>\n",
       "      <td>0.0</td>\n",
       "      <td>0.0</td>\n",
       "      <td>0.000000</td>\n",
       "      <td>0.0</td>\n",
       "      <td>0.0</td>\n",
       "      <td>0.000000</td>\n",
       "    </tr>\n",
       "  </tbody>\n",
       "</table>\n",
       "<p>360 rows × 1300 columns</p>\n",
       "</div>"
      ],
      "text/plain": [
       "     0     1     2     3     4     5     6     7             8     \\\n",
       "0       0   0.0   0.0   0.0   0.0     0   0.0   0.0      0.000000   \n",
       "1       0   0.0   0.0   0.0   0.0     0   0.0   0.0      0.000000   \n",
       "2       0   0.0   0.0   0.0   0.0     0   0.0   0.0      0.000000   \n",
       "3       0   0.0   0.0   0.0   0.0     0   0.0   0.0      0.000000   \n",
       "4       0   0.0   0.0   0.0   0.0     0   0.0   0.0      0.000000   \n",
       "..    ...   ...   ...   ...   ...   ...   ...   ...           ...   \n",
       "355     0   0.0   0.0   0.0   0.0     0   0.0   0.0  31279.455078   \n",
       "356     0   0.0   0.0   0.0   0.0     0   0.0   0.0  31064.574219   \n",
       "357     0   0.0   0.0   0.0   0.0     0   0.0   0.0  17840.945312   \n",
       "358     0   0.0   0.0   0.0   0.0     0   0.0   0.0  82506.257812   \n",
       "359     0   0.0   0.0   0.0   0.0     0   0.0   0.0  52676.558594   \n",
       "\n",
       "             9     ...  1290  1291  1292  1293  1294  1295          1296  \\\n",
       "0        0.000000  ...   0.0     0     0   0.0   0.0   0.0      0.000000   \n",
       "1    10162.613281  ...   0.0     0     0   0.0   0.0   0.0  11427.124023   \n",
       "2        0.000000  ...   0.0     0     0   0.0   0.0   0.0  12094.415039   \n",
       "3        0.000000  ...   0.0     0     0   0.0   0.0   0.0      0.000000   \n",
       "4    15409.125977  ...   0.0     0     0   0.0   0.0   0.0      0.000000   \n",
       "..            ...  ...   ...   ...   ...   ...   ...   ...           ...   \n",
       "355      0.000000  ...   0.0     0     0   0.0   0.0   0.0      0.000000   \n",
       "356      0.000000  ...   0.0     0     0   0.0   0.0   0.0      0.000000   \n",
       "357      0.000000  ...   0.0     0     0   0.0   0.0   0.0      0.000000   \n",
       "358      0.000000  ...   0.0     0     0   0.0   0.0   0.0      0.000000   \n",
       "359      0.000000  ...   0.0     0     0   0.0   0.0   0.0      0.000000   \n",
       "\n",
       "     1297  1298          1299  \n",
       "0     0.0   0.0      0.000000  \n",
       "1     0.0   0.0      0.000000  \n",
       "2     0.0   0.0      0.000000  \n",
       "3     0.0   0.0      0.000000  \n",
       "4     0.0   0.0  35418.402344  \n",
       "..    ...   ...           ...  \n",
       "355   0.0   0.0      0.000000  \n",
       "356   0.0   0.0      0.000000  \n",
       "357   0.0   0.0      0.000000  \n",
       "358   0.0   0.0      0.000000  \n",
       "359   0.0   0.0      0.000000  \n",
       "\n",
       "[360 rows x 1300 columns]"
      ]
     },
     "execution_count": 5,
     "metadata": {},
     "output_type": "execute_result"
    }
   ],
   "source": [
    "mixed_spectra_df"
   ]
  },
  {
   "cell_type": "markdown",
   "metadata": {
    "id": "1ibJYhy85OFe"
   },
   "source": [
    "### IV. Mixed Spectra Metadata\n",
    "This dataframe identifies every single mixed bacterium sample by a class label, ID, species and strain of 1st and 2nd bacteria involved in the mixture, replicate index (can be 1 or 2), ratio of 1st bacteria to 2nd bacteria and proportion inferred from this ratio.  "
   ]
  },
  {
   "cell_type": "code",
   "execution_count": 6,
   "metadata": {
    "colab": {
     "base_uri": "https://localhost:8080/",
     "height": 402
    },
    "id": "qie92oLOpQ83",
    "outputId": "c48646c7-53fd-4000-e7e4-121598340b02"
   },
   "outputs": [
    {
     "data": {
      "text/html": [
       "<div>\n",
       "<style scoped>\n",
       "    .dataframe tbody tr th:only-of-type {\n",
       "        vertical-align: middle;\n",
       "    }\n",
       "\n",
       "    .dataframe tbody tr th {\n",
       "        vertical-align: top;\n",
       "    }\n",
       "\n",
       "    .dataframe thead th {\n",
       "        text-align: right;\n",
       "    }\n",
       "</style>\n",
       "<table border=\"1\" class=\"dataframe\">\n",
       "  <thead>\n",
       "    <tr style=\"text-align: right;\">\n",
       "      <th></th>\n",
       "      <th>Mixture_Label</th>\n",
       "      <th>Mixture_Id</th>\n",
       "      <th>Species_1</th>\n",
       "      <th>Strain_1</th>\n",
       "      <th>Species_2</th>\n",
       "      <th>Strain_2</th>\n",
       "      <th>Replicate</th>\n",
       "      <th>Ratio</th>\n",
       "      <th>Proportion</th>\n",
       "    </tr>\n",
       "  </thead>\n",
       "  <tbody>\n",
       "    <tr>\n",
       "      <th>0</th>\n",
       "      <td>A</td>\n",
       "      <td>1</td>\n",
       "      <td>NYV.XSY</td>\n",
       "      <td>214</td>\n",
       "      <td>NYV.VCE</td>\n",
       "      <td>77</td>\n",
       "      <td>1</td>\n",
       "      <td>1:0</td>\n",
       "      <td>1.000000</td>\n",
       "    </tr>\n",
       "    <tr>\n",
       "      <th>1</th>\n",
       "      <td>A</td>\n",
       "      <td>1</td>\n",
       "      <td>NYV.XSY</td>\n",
       "      <td>214</td>\n",
       "      <td>NYV.VCE</td>\n",
       "      <td>77</td>\n",
       "      <td>2</td>\n",
       "      <td>1:0</td>\n",
       "      <td>1.000000</td>\n",
       "    </tr>\n",
       "    <tr>\n",
       "      <th>2</th>\n",
       "      <td>A</td>\n",
       "      <td>1</td>\n",
       "      <td>NYV.XSY</td>\n",
       "      <td>214</td>\n",
       "      <td>NYV.VCE</td>\n",
       "      <td>77</td>\n",
       "      <td>1</td>\n",
       "      <td>2:1</td>\n",
       "      <td>0.666667</td>\n",
       "    </tr>\n",
       "    <tr>\n",
       "      <th>3</th>\n",
       "      <td>A</td>\n",
       "      <td>1</td>\n",
       "      <td>NYV.XSY</td>\n",
       "      <td>214</td>\n",
       "      <td>NYV.VCE</td>\n",
       "      <td>77</td>\n",
       "      <td>2</td>\n",
       "      <td>2:1</td>\n",
       "      <td>0.666667</td>\n",
       "    </tr>\n",
       "    <tr>\n",
       "      <th>4</th>\n",
       "      <td>A</td>\n",
       "      <td>1</td>\n",
       "      <td>NYV.XSY</td>\n",
       "      <td>214</td>\n",
       "      <td>NYV.VCE</td>\n",
       "      <td>77</td>\n",
       "      <td>1</td>\n",
       "      <td>5:1</td>\n",
       "      <td>0.838384</td>\n",
       "    </tr>\n",
       "    <tr>\n",
       "      <th>...</th>\n",
       "      <td>...</td>\n",
       "      <td>...</td>\n",
       "      <td>...</td>\n",
       "      <td>...</td>\n",
       "      <td>...</td>\n",
       "      <td>...</td>\n",
       "      <td>...</td>\n",
       "      <td>...</td>\n",
       "      <td>...</td>\n",
       "    </tr>\n",
       "    <tr>\n",
       "      <th>355</th>\n",
       "      <td>F</td>\n",
       "      <td>2</td>\n",
       "      <td>AUG.AEX</td>\n",
       "      <td>181</td>\n",
       "      <td>BUT.DNW</td>\n",
       "      <td>172</td>\n",
       "      <td>2</td>\n",
       "      <td>1:5</td>\n",
       "      <td>0.161616</td>\n",
       "    </tr>\n",
       "    <tr>\n",
       "      <th>356</th>\n",
       "      <td>F</td>\n",
       "      <td>2</td>\n",
       "      <td>AUG.AEX</td>\n",
       "      <td>181</td>\n",
       "      <td>BUT.DNW</td>\n",
       "      <td>172</td>\n",
       "      <td>1</td>\n",
       "      <td>1:2</td>\n",
       "      <td>0.333333</td>\n",
       "    </tr>\n",
       "    <tr>\n",
       "      <th>357</th>\n",
       "      <td>F</td>\n",
       "      <td>2</td>\n",
       "      <td>AUG.AEX</td>\n",
       "      <td>181</td>\n",
       "      <td>BUT.DNW</td>\n",
       "      <td>172</td>\n",
       "      <td>2</td>\n",
       "      <td>1:2</td>\n",
       "      <td>0.333333</td>\n",
       "    </tr>\n",
       "    <tr>\n",
       "      <th>358</th>\n",
       "      <td>F</td>\n",
       "      <td>2</td>\n",
       "      <td>AUG.AEX</td>\n",
       "      <td>181</td>\n",
       "      <td>BUT.DNW</td>\n",
       "      <td>172</td>\n",
       "      <td>1</td>\n",
       "      <td>0:1</td>\n",
       "      <td>0.000000</td>\n",
       "    </tr>\n",
       "    <tr>\n",
       "      <th>359</th>\n",
       "      <td>F</td>\n",
       "      <td>2</td>\n",
       "      <td>AUG.AEX</td>\n",
       "      <td>181</td>\n",
       "      <td>BUT.DNW</td>\n",
       "      <td>172</td>\n",
       "      <td>2</td>\n",
       "      <td>0:1</td>\n",
       "      <td>0.000000</td>\n",
       "    </tr>\n",
       "  </tbody>\n",
       "</table>\n",
       "<p>360 rows × 9 columns</p>\n",
       "</div>"
      ],
      "text/plain": [
       "    Mixture_Label  Mixture_Id Species_1  Strain_1 Species_2  Strain_2  \\\n",
       "0               A           1   NYV.XSY       214   NYV.VCE        77   \n",
       "1               A           1   NYV.XSY       214   NYV.VCE        77   \n",
       "2               A           1   NYV.XSY       214   NYV.VCE        77   \n",
       "3               A           1   NYV.XSY       214   NYV.VCE        77   \n",
       "4               A           1   NYV.XSY       214   NYV.VCE        77   \n",
       "..            ...         ...       ...       ...       ...       ...   \n",
       "355             F           2   AUG.AEX       181   BUT.DNW       172   \n",
       "356             F           2   AUG.AEX       181   BUT.DNW       172   \n",
       "357             F           2   AUG.AEX       181   BUT.DNW       172   \n",
       "358             F           2   AUG.AEX       181   BUT.DNW       172   \n",
       "359             F           2   AUG.AEX       181   BUT.DNW       172   \n",
       "\n",
       "     Replicate Ratio  Proportion  \n",
       "0            1   1:0    1.000000  \n",
       "1            2   1:0    1.000000  \n",
       "2            1   2:1    0.666667  \n",
       "3            2   2:1    0.666667  \n",
       "4            1   5:1    0.838384  \n",
       "..         ...   ...         ...  \n",
       "355          2   1:5    0.161616  \n",
       "356          1   1:2    0.333333  \n",
       "357          2   1:2    0.333333  \n",
       "358          1   0:1    0.000000  \n",
       "359          2   0:1    0.000000  \n",
       "\n",
       "[360 rows x 9 columns]"
      ]
     },
     "execution_count": 6,
     "metadata": {},
     "output_type": "execute_result"
    }
   ],
   "source": [
    "mixed_spectra_meta_df"
   ]
  },
  {
   "cell_type": "markdown",
   "metadata": {
    "id": "6CqVjG-gtg2q"
   },
   "source": [
    "## b. Data Preprocessing"
   ]
  },
  {
   "cell_type": "markdown",
   "metadata": {
    "id": "W_Y1QORa8Zo8"
   },
   "source": [
    "### I. Combining Data with Metadata"
   ]
  },
  {
   "cell_type": "markdown",
   "metadata": {
    "id": "pDl1jY0tH83p"
   },
   "source": [
    "Two different files was provided in dataset. Data matrix contains spectra and metadata contains other features with class labels. We will combine these matrices to see them side by side."
   ]
  },
  {
   "cell_type": "code",
   "execution_count": 7,
   "metadata": {
    "id": "MFYR6-IitkAM"
   },
   "outputs": [],
   "source": [
    "pure_df = pd.concat([pure_spectra_meta_df, pure_spectra_df], axis=1)\n",
    "mixed_df = pd.concat([mixed_spectra_meta_df, mixed_spectra_df], axis=1)"
   ]
  },
  {
   "cell_type": "markdown",
   "metadata": {
    "id": "jmwvZ6RiIYr0"
   },
   "source": [
    "Pure Spectra Dataframe (combined with metadata)"
   ]
  },
  {
   "cell_type": "code",
   "execution_count": 8,
   "metadata": {
    "colab": {
     "base_uri": "https://localhost:8080/",
     "height": 422
    },
    "id": "MZv9N4mXvClG",
    "outputId": "1a213bef-8b82-4030-f73a-be674e69cc81"
   },
   "outputs": [
    {
     "data": {
      "text/html": [
       "<div>\n",
       "<style scoped>\n",
       "    .dataframe tbody tr th:only-of-type {\n",
       "        vertical-align: middle;\n",
       "    }\n",
       "\n",
       "    .dataframe tbody tr th {\n",
       "        vertical-align: top;\n",
       "    }\n",
       "\n",
       "    .dataframe thead th {\n",
       "        text-align: right;\n",
       "    }\n",
       "</style>\n",
       "<table border=\"1\" class=\"dataframe\">\n",
       "  <thead>\n",
       "    <tr style=\"text-align: right;\">\n",
       "      <th></th>\n",
       "      <th>Species</th>\n",
       "      <th>Strain</th>\n",
       "      <th>0</th>\n",
       "      <th>1</th>\n",
       "      <th>2</th>\n",
       "      <th>3</th>\n",
       "      <th>4</th>\n",
       "      <th>5</th>\n",
       "      <th>6</th>\n",
       "      <th>7</th>\n",
       "      <th>...</th>\n",
       "      <th>1290</th>\n",
       "      <th>1291</th>\n",
       "      <th>1292</th>\n",
       "      <th>1293</th>\n",
       "      <th>1294</th>\n",
       "      <th>1295</th>\n",
       "      <th>1296</th>\n",
       "      <th>1297</th>\n",
       "      <th>1298</th>\n",
       "      <th>1299</th>\n",
       "    </tr>\n",
       "  </thead>\n",
       "  <tbody>\n",
       "    <tr>\n",
       "      <th>0</th>\n",
       "      <td>RTO.TQH</td>\n",
       "      <td>1</td>\n",
       "      <td>0</td>\n",
       "      <td>0</td>\n",
       "      <td>0.0000</td>\n",
       "      <td>0.0</td>\n",
       "      <td>0.0</td>\n",
       "      <td>0</td>\n",
       "      <td>44431.921875</td>\n",
       "      <td>0.0</td>\n",
       "      <td>...</td>\n",
       "      <td>0.000000</td>\n",
       "      <td>0.0</td>\n",
       "      <td>0</td>\n",
       "      <td>0.0</td>\n",
       "      <td>0.000000</td>\n",
       "      <td>0.0</td>\n",
       "      <td>0.0</td>\n",
       "      <td>0.0</td>\n",
       "      <td>0.000000</td>\n",
       "      <td>0.0</td>\n",
       "    </tr>\n",
       "    <tr>\n",
       "      <th>1</th>\n",
       "      <td>BUT.YZE</td>\n",
       "      <td>2</td>\n",
       "      <td>0</td>\n",
       "      <td>0</td>\n",
       "      <td>0.0000</td>\n",
       "      <td>0.0</td>\n",
       "      <td>0.0</td>\n",
       "      <td>0</td>\n",
       "      <td>0.000000</td>\n",
       "      <td>0.0</td>\n",
       "      <td>...</td>\n",
       "      <td>27667.777344</td>\n",
       "      <td>0.0</td>\n",
       "      <td>0</td>\n",
       "      <td>0.0</td>\n",
       "      <td>35438.351562</td>\n",
       "      <td>0.0</td>\n",
       "      <td>0.0</td>\n",
       "      <td>0.0</td>\n",
       "      <td>0.000000</td>\n",
       "      <td>0.0</td>\n",
       "    </tr>\n",
       "    <tr>\n",
       "      <th>2</th>\n",
       "      <td>BUT.YZE</td>\n",
       "      <td>2</td>\n",
       "      <td>0</td>\n",
       "      <td>0</td>\n",
       "      <td>0.0000</td>\n",
       "      <td>0.0</td>\n",
       "      <td>0.0</td>\n",
       "      <td>0</td>\n",
       "      <td>0.000000</td>\n",
       "      <td>0.0</td>\n",
       "      <td>...</td>\n",
       "      <td>59820.968750</td>\n",
       "      <td>0.0</td>\n",
       "      <td>0</td>\n",
       "      <td>0.0</td>\n",
       "      <td>6384.590820</td>\n",
       "      <td>0.0</td>\n",
       "      <td>0.0</td>\n",
       "      <td>0.0</td>\n",
       "      <td>0.000000</td>\n",
       "      <td>0.0</td>\n",
       "    </tr>\n",
       "    <tr>\n",
       "      <th>3</th>\n",
       "      <td>BUT.YZE</td>\n",
       "      <td>2</td>\n",
       "      <td>0</td>\n",
       "      <td>0</td>\n",
       "      <td>0.0000</td>\n",
       "      <td>0.0</td>\n",
       "      <td>0.0</td>\n",
       "      <td>0</td>\n",
       "      <td>0.000000</td>\n",
       "      <td>0.0</td>\n",
       "      <td>...</td>\n",
       "      <td>0.000000</td>\n",
       "      <td>0.0</td>\n",
       "      <td>0</td>\n",
       "      <td>0.0</td>\n",
       "      <td>0.000000</td>\n",
       "      <td>0.0</td>\n",
       "      <td>0.0</td>\n",
       "      <td>0.0</td>\n",
       "      <td>0.000000</td>\n",
       "      <td>0.0</td>\n",
       "    </tr>\n",
       "    <tr>\n",
       "      <th>4</th>\n",
       "      <td>BUT.YZE</td>\n",
       "      <td>2</td>\n",
       "      <td>0</td>\n",
       "      <td>0</td>\n",
       "      <td>0.0000</td>\n",
       "      <td>0.0</td>\n",
       "      <td>0.0</td>\n",
       "      <td>0</td>\n",
       "      <td>4701.712402</td>\n",
       "      <td>0.0</td>\n",
       "      <td>...</td>\n",
       "      <td>3913.969727</td>\n",
       "      <td>0.0</td>\n",
       "      <td>0</td>\n",
       "      <td>0.0</td>\n",
       "      <td>0.000000</td>\n",
       "      <td>0.0</td>\n",
       "      <td>0.0</td>\n",
       "      <td>0.0</td>\n",
       "      <td>0.000000</td>\n",
       "      <td>0.0</td>\n",
       "    </tr>\n",
       "    <tr>\n",
       "      <th>...</th>\n",
       "      <td>...</td>\n",
       "      <td>...</td>\n",
       "      <td>...</td>\n",
       "      <td>...</td>\n",
       "      <td>...</td>\n",
       "      <td>...</td>\n",
       "      <td>...</td>\n",
       "      <td>...</td>\n",
       "      <td>...</td>\n",
       "      <td>...</td>\n",
       "      <td>...</td>\n",
       "      <td>...</td>\n",
       "      <td>...</td>\n",
       "      <td>...</td>\n",
       "      <td>...</td>\n",
       "      <td>...</td>\n",
       "      <td>...</td>\n",
       "      <td>...</td>\n",
       "      <td>...</td>\n",
       "      <td>...</td>\n",
       "      <td>...</td>\n",
       "    </tr>\n",
       "    <tr>\n",
       "      <th>566</th>\n",
       "      <td>VVJ.KWJ</td>\n",
       "      <td>212</td>\n",
       "      <td>0</td>\n",
       "      <td>0</td>\n",
       "      <td>0.0000</td>\n",
       "      <td>0.0</td>\n",
       "      <td>0.0</td>\n",
       "      <td>0</td>\n",
       "      <td>0.000000</td>\n",
       "      <td>0.0</td>\n",
       "      <td>...</td>\n",
       "      <td>0.000000</td>\n",
       "      <td>0.0</td>\n",
       "      <td>0</td>\n",
       "      <td>0.0</td>\n",
       "      <td>0.000000</td>\n",
       "      <td>0.0</td>\n",
       "      <td>0.0</td>\n",
       "      <td>0.0</td>\n",
       "      <td>0.000000</td>\n",
       "      <td>0.0</td>\n",
       "    </tr>\n",
       "    <tr>\n",
       "      <th>567</th>\n",
       "      <td>VVJ.KWJ</td>\n",
       "      <td>212</td>\n",
       "      <td>0</td>\n",
       "      <td>0</td>\n",
       "      <td>0.0000</td>\n",
       "      <td>0.0</td>\n",
       "      <td>0.0</td>\n",
       "      <td>0</td>\n",
       "      <td>0.000000</td>\n",
       "      <td>0.0</td>\n",
       "      <td>...</td>\n",
       "      <td>0.000000</td>\n",
       "      <td>0.0</td>\n",
       "      <td>0</td>\n",
       "      <td>0.0</td>\n",
       "      <td>0.000000</td>\n",
       "      <td>0.0</td>\n",
       "      <td>0.0</td>\n",
       "      <td>0.0</td>\n",
       "      <td>0.000000</td>\n",
       "      <td>0.0</td>\n",
       "    </tr>\n",
       "    <tr>\n",
       "      <th>568</th>\n",
       "      <td>VVJ.KWJ</td>\n",
       "      <td>212</td>\n",
       "      <td>0</td>\n",
       "      <td>0</td>\n",
       "      <td>0.0000</td>\n",
       "      <td>0.0</td>\n",
       "      <td>0.0</td>\n",
       "      <td>0</td>\n",
       "      <td>0.000000</td>\n",
       "      <td>0.0</td>\n",
       "      <td>...</td>\n",
       "      <td>0.000000</td>\n",
       "      <td>0.0</td>\n",
       "      <td>0</td>\n",
       "      <td>0.0</td>\n",
       "      <td>0.000000</td>\n",
       "      <td>0.0</td>\n",
       "      <td>0.0</td>\n",
       "      <td>0.0</td>\n",
       "      <td>24808.794922</td>\n",
       "      <td>0.0</td>\n",
       "    </tr>\n",
       "    <tr>\n",
       "      <th>569</th>\n",
       "      <td>QBG.CRP</td>\n",
       "      <td>213</td>\n",
       "      <td>0</td>\n",
       "      <td>0</td>\n",
       "      <td>145578.5625</td>\n",
       "      <td>0.0</td>\n",
       "      <td>0.0</td>\n",
       "      <td>0</td>\n",
       "      <td>0.000000</td>\n",
       "      <td>0.0</td>\n",
       "      <td>...</td>\n",
       "      <td>0.000000</td>\n",
       "      <td>0.0</td>\n",
       "      <td>0</td>\n",
       "      <td>0.0</td>\n",
       "      <td>0.000000</td>\n",
       "      <td>0.0</td>\n",
       "      <td>0.0</td>\n",
       "      <td>0.0</td>\n",
       "      <td>0.000000</td>\n",
       "      <td>0.0</td>\n",
       "    </tr>\n",
       "    <tr>\n",
       "      <th>570</th>\n",
       "      <td>QBG.CRP</td>\n",
       "      <td>213</td>\n",
       "      <td>0</td>\n",
       "      <td>0</td>\n",
       "      <td>626135.8125</td>\n",
       "      <td>0.0</td>\n",
       "      <td>0.0</td>\n",
       "      <td>0</td>\n",
       "      <td>0.000000</td>\n",
       "      <td>0.0</td>\n",
       "      <td>...</td>\n",
       "      <td>43746.761719</td>\n",
       "      <td>0.0</td>\n",
       "      <td>0</td>\n",
       "      <td>0.0</td>\n",
       "      <td>0.000000</td>\n",
       "      <td>0.0</td>\n",
       "      <td>0.0</td>\n",
       "      <td>0.0</td>\n",
       "      <td>0.000000</td>\n",
       "      <td>0.0</td>\n",
       "    </tr>\n",
       "  </tbody>\n",
       "</table>\n",
       "<p>571 rows × 1302 columns</p>\n",
       "</div>"
      ],
      "text/plain": [
       "     Species  Strain  0  1            2    3    4  5             6    7  ...  \\\n",
       "0    RTO.TQH       1  0  0       0.0000  0.0  0.0  0  44431.921875  0.0  ...   \n",
       "1    BUT.YZE       2  0  0       0.0000  0.0  0.0  0      0.000000  0.0  ...   \n",
       "2    BUT.YZE       2  0  0       0.0000  0.0  0.0  0      0.000000  0.0  ...   \n",
       "3    BUT.YZE       2  0  0       0.0000  0.0  0.0  0      0.000000  0.0  ...   \n",
       "4    BUT.YZE       2  0  0       0.0000  0.0  0.0  0   4701.712402  0.0  ...   \n",
       "..       ...     ... .. ..          ...  ...  ... ..           ...  ...  ...   \n",
       "566  VVJ.KWJ     212  0  0       0.0000  0.0  0.0  0      0.000000  0.0  ...   \n",
       "567  VVJ.KWJ     212  0  0       0.0000  0.0  0.0  0      0.000000  0.0  ...   \n",
       "568  VVJ.KWJ     212  0  0       0.0000  0.0  0.0  0      0.000000  0.0  ...   \n",
       "569  QBG.CRP     213  0  0  145578.5625  0.0  0.0  0      0.000000  0.0  ...   \n",
       "570  QBG.CRP     213  0  0  626135.8125  0.0  0.0  0      0.000000  0.0  ...   \n",
       "\n",
       "             1290  1291  1292  1293          1294  1295  1296  1297  \\\n",
       "0        0.000000   0.0     0   0.0      0.000000   0.0   0.0   0.0   \n",
       "1    27667.777344   0.0     0   0.0  35438.351562   0.0   0.0   0.0   \n",
       "2    59820.968750   0.0     0   0.0   6384.590820   0.0   0.0   0.0   \n",
       "3        0.000000   0.0     0   0.0      0.000000   0.0   0.0   0.0   \n",
       "4     3913.969727   0.0     0   0.0      0.000000   0.0   0.0   0.0   \n",
       "..            ...   ...   ...   ...           ...   ...   ...   ...   \n",
       "566      0.000000   0.0     0   0.0      0.000000   0.0   0.0   0.0   \n",
       "567      0.000000   0.0     0   0.0      0.000000   0.0   0.0   0.0   \n",
       "568      0.000000   0.0     0   0.0      0.000000   0.0   0.0   0.0   \n",
       "569      0.000000   0.0     0   0.0      0.000000   0.0   0.0   0.0   \n",
       "570  43746.761719   0.0     0   0.0      0.000000   0.0   0.0   0.0   \n",
       "\n",
       "             1298  1299  \n",
       "0        0.000000   0.0  \n",
       "1        0.000000   0.0  \n",
       "2        0.000000   0.0  \n",
       "3        0.000000   0.0  \n",
       "4        0.000000   0.0  \n",
       "..            ...   ...  \n",
       "566      0.000000   0.0  \n",
       "567      0.000000   0.0  \n",
       "568  24808.794922   0.0  \n",
       "569      0.000000   0.0  \n",
       "570      0.000000   0.0  \n",
       "\n",
       "[571 rows x 1302 columns]"
      ]
     },
     "execution_count": 8,
     "metadata": {},
     "output_type": "execute_result"
    }
   ],
   "source": [
    "pure_df"
   ]
  },
  {
   "cell_type": "markdown",
   "metadata": {
    "id": "31v9qQBdIdgj"
   },
   "source": [
    "Mixed Spectra Dataframe (combined with metadata)"
   ]
  },
  {
   "cell_type": "code",
   "execution_count": 9,
   "metadata": {
    "colab": {
     "base_uri": "https://localhost:8080/",
     "height": 422
    },
    "id": "YLRB5FAEvDB1",
    "outputId": "bdacf7f4-3b59-447d-812f-40fe213bda05"
   },
   "outputs": [
    {
     "data": {
      "text/html": [
       "<div>\n",
       "<style scoped>\n",
       "    .dataframe tbody tr th:only-of-type {\n",
       "        vertical-align: middle;\n",
       "    }\n",
       "\n",
       "    .dataframe tbody tr th {\n",
       "        vertical-align: top;\n",
       "    }\n",
       "\n",
       "    .dataframe thead th {\n",
       "        text-align: right;\n",
       "    }\n",
       "</style>\n",
       "<table border=\"1\" class=\"dataframe\">\n",
       "  <thead>\n",
       "    <tr style=\"text-align: right;\">\n",
       "      <th></th>\n",
       "      <th>Mixture_Label</th>\n",
       "      <th>Mixture_Id</th>\n",
       "      <th>Species_1</th>\n",
       "      <th>Strain_1</th>\n",
       "      <th>Species_2</th>\n",
       "      <th>Strain_2</th>\n",
       "      <th>Replicate</th>\n",
       "      <th>Ratio</th>\n",
       "      <th>Proportion</th>\n",
       "      <th>0</th>\n",
       "      <th>...</th>\n",
       "      <th>1290</th>\n",
       "      <th>1291</th>\n",
       "      <th>1292</th>\n",
       "      <th>1293</th>\n",
       "      <th>1294</th>\n",
       "      <th>1295</th>\n",
       "      <th>1296</th>\n",
       "      <th>1297</th>\n",
       "      <th>1298</th>\n",
       "      <th>1299</th>\n",
       "    </tr>\n",
       "  </thead>\n",
       "  <tbody>\n",
       "    <tr>\n",
       "      <th>0</th>\n",
       "      <td>A</td>\n",
       "      <td>1</td>\n",
       "      <td>NYV.XSY</td>\n",
       "      <td>214</td>\n",
       "      <td>NYV.VCE</td>\n",
       "      <td>77</td>\n",
       "      <td>1</td>\n",
       "      <td>1:0</td>\n",
       "      <td>1.000000</td>\n",
       "      <td>0</td>\n",
       "      <td>...</td>\n",
       "      <td>0.0</td>\n",
       "      <td>0</td>\n",
       "      <td>0</td>\n",
       "      <td>0.0</td>\n",
       "      <td>0.0</td>\n",
       "      <td>0.0</td>\n",
       "      <td>0.000000</td>\n",
       "      <td>0.0</td>\n",
       "      <td>0.0</td>\n",
       "      <td>0.000000</td>\n",
       "    </tr>\n",
       "    <tr>\n",
       "      <th>1</th>\n",
       "      <td>A</td>\n",
       "      <td>1</td>\n",
       "      <td>NYV.XSY</td>\n",
       "      <td>214</td>\n",
       "      <td>NYV.VCE</td>\n",
       "      <td>77</td>\n",
       "      <td>2</td>\n",
       "      <td>1:0</td>\n",
       "      <td>1.000000</td>\n",
       "      <td>0</td>\n",
       "      <td>...</td>\n",
       "      <td>0.0</td>\n",
       "      <td>0</td>\n",
       "      <td>0</td>\n",
       "      <td>0.0</td>\n",
       "      <td>0.0</td>\n",
       "      <td>0.0</td>\n",
       "      <td>11427.124023</td>\n",
       "      <td>0.0</td>\n",
       "      <td>0.0</td>\n",
       "      <td>0.000000</td>\n",
       "    </tr>\n",
       "    <tr>\n",
       "      <th>2</th>\n",
       "      <td>A</td>\n",
       "      <td>1</td>\n",
       "      <td>NYV.XSY</td>\n",
       "      <td>214</td>\n",
       "      <td>NYV.VCE</td>\n",
       "      <td>77</td>\n",
       "      <td>1</td>\n",
       "      <td>2:1</td>\n",
       "      <td>0.666667</td>\n",
       "      <td>0</td>\n",
       "      <td>...</td>\n",
       "      <td>0.0</td>\n",
       "      <td>0</td>\n",
       "      <td>0</td>\n",
       "      <td>0.0</td>\n",
       "      <td>0.0</td>\n",
       "      <td>0.0</td>\n",
       "      <td>12094.415039</td>\n",
       "      <td>0.0</td>\n",
       "      <td>0.0</td>\n",
       "      <td>0.000000</td>\n",
       "    </tr>\n",
       "    <tr>\n",
       "      <th>3</th>\n",
       "      <td>A</td>\n",
       "      <td>1</td>\n",
       "      <td>NYV.XSY</td>\n",
       "      <td>214</td>\n",
       "      <td>NYV.VCE</td>\n",
       "      <td>77</td>\n",
       "      <td>2</td>\n",
       "      <td>2:1</td>\n",
       "      <td>0.666667</td>\n",
       "      <td>0</td>\n",
       "      <td>...</td>\n",
       "      <td>0.0</td>\n",
       "      <td>0</td>\n",
       "      <td>0</td>\n",
       "      <td>0.0</td>\n",
       "      <td>0.0</td>\n",
       "      <td>0.0</td>\n",
       "      <td>0.000000</td>\n",
       "      <td>0.0</td>\n",
       "      <td>0.0</td>\n",
       "      <td>0.000000</td>\n",
       "    </tr>\n",
       "    <tr>\n",
       "      <th>4</th>\n",
       "      <td>A</td>\n",
       "      <td>1</td>\n",
       "      <td>NYV.XSY</td>\n",
       "      <td>214</td>\n",
       "      <td>NYV.VCE</td>\n",
       "      <td>77</td>\n",
       "      <td>1</td>\n",
       "      <td>5:1</td>\n",
       "      <td>0.838384</td>\n",
       "      <td>0</td>\n",
       "      <td>...</td>\n",
       "      <td>0.0</td>\n",
       "      <td>0</td>\n",
       "      <td>0</td>\n",
       "      <td>0.0</td>\n",
       "      <td>0.0</td>\n",
       "      <td>0.0</td>\n",
       "      <td>0.000000</td>\n",
       "      <td>0.0</td>\n",
       "      <td>0.0</td>\n",
       "      <td>35418.402344</td>\n",
       "    </tr>\n",
       "    <tr>\n",
       "      <th>...</th>\n",
       "      <td>...</td>\n",
       "      <td>...</td>\n",
       "      <td>...</td>\n",
       "      <td>...</td>\n",
       "      <td>...</td>\n",
       "      <td>...</td>\n",
       "      <td>...</td>\n",
       "      <td>...</td>\n",
       "      <td>...</td>\n",
       "      <td>...</td>\n",
       "      <td>...</td>\n",
       "      <td>...</td>\n",
       "      <td>...</td>\n",
       "      <td>...</td>\n",
       "      <td>...</td>\n",
       "      <td>...</td>\n",
       "      <td>...</td>\n",
       "      <td>...</td>\n",
       "      <td>...</td>\n",
       "      <td>...</td>\n",
       "      <td>...</td>\n",
       "    </tr>\n",
       "    <tr>\n",
       "      <th>355</th>\n",
       "      <td>F</td>\n",
       "      <td>2</td>\n",
       "      <td>AUG.AEX</td>\n",
       "      <td>181</td>\n",
       "      <td>BUT.DNW</td>\n",
       "      <td>172</td>\n",
       "      <td>2</td>\n",
       "      <td>1:5</td>\n",
       "      <td>0.161616</td>\n",
       "      <td>0</td>\n",
       "      <td>...</td>\n",
       "      <td>0.0</td>\n",
       "      <td>0</td>\n",
       "      <td>0</td>\n",
       "      <td>0.0</td>\n",
       "      <td>0.0</td>\n",
       "      <td>0.0</td>\n",
       "      <td>0.000000</td>\n",
       "      <td>0.0</td>\n",
       "      <td>0.0</td>\n",
       "      <td>0.000000</td>\n",
       "    </tr>\n",
       "    <tr>\n",
       "      <th>356</th>\n",
       "      <td>F</td>\n",
       "      <td>2</td>\n",
       "      <td>AUG.AEX</td>\n",
       "      <td>181</td>\n",
       "      <td>BUT.DNW</td>\n",
       "      <td>172</td>\n",
       "      <td>1</td>\n",
       "      <td>1:2</td>\n",
       "      <td>0.333333</td>\n",
       "      <td>0</td>\n",
       "      <td>...</td>\n",
       "      <td>0.0</td>\n",
       "      <td>0</td>\n",
       "      <td>0</td>\n",
       "      <td>0.0</td>\n",
       "      <td>0.0</td>\n",
       "      <td>0.0</td>\n",
       "      <td>0.000000</td>\n",
       "      <td>0.0</td>\n",
       "      <td>0.0</td>\n",
       "      <td>0.000000</td>\n",
       "    </tr>\n",
       "    <tr>\n",
       "      <th>357</th>\n",
       "      <td>F</td>\n",
       "      <td>2</td>\n",
       "      <td>AUG.AEX</td>\n",
       "      <td>181</td>\n",
       "      <td>BUT.DNW</td>\n",
       "      <td>172</td>\n",
       "      <td>2</td>\n",
       "      <td>1:2</td>\n",
       "      <td>0.333333</td>\n",
       "      <td>0</td>\n",
       "      <td>...</td>\n",
       "      <td>0.0</td>\n",
       "      <td>0</td>\n",
       "      <td>0</td>\n",
       "      <td>0.0</td>\n",
       "      <td>0.0</td>\n",
       "      <td>0.0</td>\n",
       "      <td>0.000000</td>\n",
       "      <td>0.0</td>\n",
       "      <td>0.0</td>\n",
       "      <td>0.000000</td>\n",
       "    </tr>\n",
       "    <tr>\n",
       "      <th>358</th>\n",
       "      <td>F</td>\n",
       "      <td>2</td>\n",
       "      <td>AUG.AEX</td>\n",
       "      <td>181</td>\n",
       "      <td>BUT.DNW</td>\n",
       "      <td>172</td>\n",
       "      <td>1</td>\n",
       "      <td>0:1</td>\n",
       "      <td>0.000000</td>\n",
       "      <td>0</td>\n",
       "      <td>...</td>\n",
       "      <td>0.0</td>\n",
       "      <td>0</td>\n",
       "      <td>0</td>\n",
       "      <td>0.0</td>\n",
       "      <td>0.0</td>\n",
       "      <td>0.0</td>\n",
       "      <td>0.000000</td>\n",
       "      <td>0.0</td>\n",
       "      <td>0.0</td>\n",
       "      <td>0.000000</td>\n",
       "    </tr>\n",
       "    <tr>\n",
       "      <th>359</th>\n",
       "      <td>F</td>\n",
       "      <td>2</td>\n",
       "      <td>AUG.AEX</td>\n",
       "      <td>181</td>\n",
       "      <td>BUT.DNW</td>\n",
       "      <td>172</td>\n",
       "      <td>2</td>\n",
       "      <td>0:1</td>\n",
       "      <td>0.000000</td>\n",
       "      <td>0</td>\n",
       "      <td>...</td>\n",
       "      <td>0.0</td>\n",
       "      <td>0</td>\n",
       "      <td>0</td>\n",
       "      <td>0.0</td>\n",
       "      <td>0.0</td>\n",
       "      <td>0.0</td>\n",
       "      <td>0.000000</td>\n",
       "      <td>0.0</td>\n",
       "      <td>0.0</td>\n",
       "      <td>0.000000</td>\n",
       "    </tr>\n",
       "  </tbody>\n",
       "</table>\n",
       "<p>360 rows × 1309 columns</p>\n",
       "</div>"
      ],
      "text/plain": [
       "    Mixture_Label  Mixture_Id Species_1  Strain_1 Species_2  Strain_2  \\\n",
       "0               A           1   NYV.XSY       214   NYV.VCE        77   \n",
       "1               A           1   NYV.XSY       214   NYV.VCE        77   \n",
       "2               A           1   NYV.XSY       214   NYV.VCE        77   \n",
       "3               A           1   NYV.XSY       214   NYV.VCE        77   \n",
       "4               A           1   NYV.XSY       214   NYV.VCE        77   \n",
       "..            ...         ...       ...       ...       ...       ...   \n",
       "355             F           2   AUG.AEX       181   BUT.DNW       172   \n",
       "356             F           2   AUG.AEX       181   BUT.DNW       172   \n",
       "357             F           2   AUG.AEX       181   BUT.DNW       172   \n",
       "358             F           2   AUG.AEX       181   BUT.DNW       172   \n",
       "359             F           2   AUG.AEX       181   BUT.DNW       172   \n",
       "\n",
       "     Replicate Ratio  Proportion  0  ...  1290  1291  1292  1293  1294  1295  \\\n",
       "0            1   1:0    1.000000  0  ...   0.0     0     0   0.0   0.0   0.0   \n",
       "1            2   1:0    1.000000  0  ...   0.0     0     0   0.0   0.0   0.0   \n",
       "2            1   2:1    0.666667  0  ...   0.0     0     0   0.0   0.0   0.0   \n",
       "3            2   2:1    0.666667  0  ...   0.0     0     0   0.0   0.0   0.0   \n",
       "4            1   5:1    0.838384  0  ...   0.0     0     0   0.0   0.0   0.0   \n",
       "..         ...   ...         ... ..  ...   ...   ...   ...   ...   ...   ...   \n",
       "355          2   1:5    0.161616  0  ...   0.0     0     0   0.0   0.0   0.0   \n",
       "356          1   1:2    0.333333  0  ...   0.0     0     0   0.0   0.0   0.0   \n",
       "357          2   1:2    0.333333  0  ...   0.0     0     0   0.0   0.0   0.0   \n",
       "358          1   0:1    0.000000  0  ...   0.0     0     0   0.0   0.0   0.0   \n",
       "359          2   0:1    0.000000  0  ...   0.0     0     0   0.0   0.0   0.0   \n",
       "\n",
       "             1296  1297  1298          1299  \n",
       "0        0.000000   0.0   0.0      0.000000  \n",
       "1    11427.124023   0.0   0.0      0.000000  \n",
       "2    12094.415039   0.0   0.0      0.000000  \n",
       "3        0.000000   0.0   0.0      0.000000  \n",
       "4        0.000000   0.0   0.0  35418.402344  \n",
       "..            ...   ...   ...           ...  \n",
       "355      0.000000   0.0   0.0      0.000000  \n",
       "356      0.000000   0.0   0.0      0.000000  \n",
       "357      0.000000   0.0   0.0      0.000000  \n",
       "358      0.000000   0.0   0.0      0.000000  \n",
       "359      0.000000   0.0   0.0      0.000000  \n",
       "\n",
       "[360 rows x 1309 columns]"
      ]
     },
     "execution_count": 9,
     "metadata": {},
     "output_type": "execute_result"
    }
   ],
   "source": [
    "mixed_df"
   ]
  },
  {
   "cell_type": "markdown",
   "metadata": {
    "id": "P8yo-Kmp9RTj"
   },
   "source": [
    "### II. Extracting Class Labels"
   ]
  },
  {
   "cell_type": "markdown",
   "metadata": {
    "id": "YF935b44InQC"
   },
   "source": [
    "Our class labels are in different format with pure and mixed data. We will create a column with name 'class' in both pure and mixed data and assign class names to this column. For pure samples, class labels are simply equal to species (e.g: 'AUG.AEX') and for mixed samples, class labels are combination of two species of mixture (e.g:'AUG.AEX BUT.DNW')"
   ]
  },
  {
   "cell_type": "code",
   "execution_count": 10,
   "metadata": {
    "id": "F3X9nFwK86Bd"
   },
   "outputs": [],
   "source": [
    "pure_df['class'] = pure_df['Species']\n",
    "mixed_df['class'] = mixed_df['Species_1']  + ' ' + mixed_df['Species_2']"
   ]
  },
  {
   "cell_type": "markdown",
   "metadata": {
    "id": "0_CqG3Y1JF3I"
   },
   "source": [
    "Class Column of Pure Data Frame"
   ]
  },
  {
   "cell_type": "code",
   "execution_count": 11,
   "metadata": {
    "colab": {
     "base_uri": "https://localhost:8080/"
    },
    "id": "KgQIacce9aXH",
    "outputId": "a952de0b-f58d-4326-9ea5-be22aecd6300"
   },
   "outputs": [
    {
     "data": {
      "text/plain": [
       "0      RTO.TQH\n",
       "1      BUT.YZE\n",
       "2      BUT.YZE\n",
       "3      BUT.YZE\n",
       "4      BUT.YZE\n",
       "        ...   \n",
       "566    VVJ.KWJ\n",
       "567    VVJ.KWJ\n",
       "568    VVJ.KWJ\n",
       "569    QBG.CRP\n",
       "570    QBG.CRP\n",
       "Name: class, Length: 571, dtype: object"
      ]
     },
     "execution_count": 11,
     "metadata": {},
     "output_type": "execute_result"
    }
   ],
   "source": [
    "pure_df['class']"
   ]
  },
  {
   "cell_type": "markdown",
   "metadata": {
    "id": "ZI6Llv-CJJmg"
   },
   "source": [
    "Class Column of Mixed Data Frame"
   ]
  },
  {
   "cell_type": "code",
   "execution_count": 12,
   "metadata": {
    "colab": {
     "base_uri": "https://localhost:8080/"
    },
    "id": "ih1ua8NR9cfn",
    "outputId": "676aefe8-92ac-4a02-d236-489fc4f30b54"
   },
   "outputs": [
    {
     "data": {
      "text/plain": [
       "0      NYV.XSY NYV.VCE\n",
       "1      NYV.XSY NYV.VCE\n",
       "2      NYV.XSY NYV.VCE\n",
       "3      NYV.XSY NYV.VCE\n",
       "4      NYV.XSY NYV.VCE\n",
       "            ...       \n",
       "355    AUG.AEX BUT.DNW\n",
       "356    AUG.AEX BUT.DNW\n",
       "357    AUG.AEX BUT.DNW\n",
       "358    AUG.AEX BUT.DNW\n",
       "359    AUG.AEX BUT.DNW\n",
       "Name: class, Length: 360, dtype: object"
      ]
     },
     "execution_count": 12,
     "metadata": {},
     "output_type": "execute_result"
    }
   ],
   "source": [
    "mixed_df['class']"
   ]
  },
  {
   "cell_type": "markdown",
   "metadata": {
    "id": "xJ_e6YjK_0ju"
   },
   "source": [
    "### III. Removing Unnecessary Features"
   ]
  },
  {
   "cell_type": "markdown",
   "metadata": {
    "id": "VwdqgOOuJlpt"
   },
   "source": [
    "We will use only mass spectra variables as features and species names as class labels. So we are going to clear all the other columns."
   ]
  },
  {
   "cell_type": "code",
   "execution_count": 13,
   "metadata": {
    "id": "mdYBIDfY_pIM"
   },
   "outputs": [],
   "source": [
    "pure_df = pure_df.drop(['Species','Strain'], axis=1)\n",
    "mixed_df = mixed_df.drop(['Mixture_Label', 'Mixture_Id', 'Species_1', 'Strain_1', 'Species_2', 'Strain_2', 'Replicate', 'Ratio', 'Proportion'], axis=1)"
   ]
  },
  {
   "cell_type": "markdown",
   "metadata": {
    "id": "qPufFz9ZJ7OW"
   },
   "source": [
    "Pure Data Frame without Unnecessary Features"
   ]
  },
  {
   "cell_type": "code",
   "execution_count": 14,
   "metadata": {
    "colab": {
     "base_uri": "https://localhost:8080/",
     "height": 422
    },
    "id": "uhXFUxuP_7HP",
    "outputId": "94cfc14b-9f52-4804-8c43-d82842ff5db7"
   },
   "outputs": [
    {
     "data": {
      "text/html": [
       "<div>\n",
       "<style scoped>\n",
       "    .dataframe tbody tr th:only-of-type {\n",
       "        vertical-align: middle;\n",
       "    }\n",
       "\n",
       "    .dataframe tbody tr th {\n",
       "        vertical-align: top;\n",
       "    }\n",
       "\n",
       "    .dataframe thead th {\n",
       "        text-align: right;\n",
       "    }\n",
       "</style>\n",
       "<table border=\"1\" class=\"dataframe\">\n",
       "  <thead>\n",
       "    <tr style=\"text-align: right;\">\n",
       "      <th></th>\n",
       "      <th>0</th>\n",
       "      <th>1</th>\n",
       "      <th>2</th>\n",
       "      <th>3</th>\n",
       "      <th>4</th>\n",
       "      <th>5</th>\n",
       "      <th>6</th>\n",
       "      <th>7</th>\n",
       "      <th>8</th>\n",
       "      <th>9</th>\n",
       "      <th>...</th>\n",
       "      <th>1291</th>\n",
       "      <th>1292</th>\n",
       "      <th>1293</th>\n",
       "      <th>1294</th>\n",
       "      <th>1295</th>\n",
       "      <th>1296</th>\n",
       "      <th>1297</th>\n",
       "      <th>1298</th>\n",
       "      <th>1299</th>\n",
       "      <th>class</th>\n",
       "    </tr>\n",
       "  </thead>\n",
       "  <tbody>\n",
       "    <tr>\n",
       "      <th>0</th>\n",
       "      <td>0</td>\n",
       "      <td>0</td>\n",
       "      <td>0.0000</td>\n",
       "      <td>0.0</td>\n",
       "      <td>0.0</td>\n",
       "      <td>0</td>\n",
       "      <td>44431.921875</td>\n",
       "      <td>0.0</td>\n",
       "      <td>0.0</td>\n",
       "      <td>0.0</td>\n",
       "      <td>...</td>\n",
       "      <td>0.0</td>\n",
       "      <td>0</td>\n",
       "      <td>0.0</td>\n",
       "      <td>0.000000</td>\n",
       "      <td>0.0</td>\n",
       "      <td>0.0</td>\n",
       "      <td>0.0</td>\n",
       "      <td>0.000000</td>\n",
       "      <td>0.0</td>\n",
       "      <td>RTO.TQH</td>\n",
       "    </tr>\n",
       "    <tr>\n",
       "      <th>1</th>\n",
       "      <td>0</td>\n",
       "      <td>0</td>\n",
       "      <td>0.0000</td>\n",
       "      <td>0.0</td>\n",
       "      <td>0.0</td>\n",
       "      <td>0</td>\n",
       "      <td>0.000000</td>\n",
       "      <td>0.0</td>\n",
       "      <td>0.0</td>\n",
       "      <td>0.0</td>\n",
       "      <td>...</td>\n",
       "      <td>0.0</td>\n",
       "      <td>0</td>\n",
       "      <td>0.0</td>\n",
       "      <td>35438.351562</td>\n",
       "      <td>0.0</td>\n",
       "      <td>0.0</td>\n",
       "      <td>0.0</td>\n",
       "      <td>0.000000</td>\n",
       "      <td>0.0</td>\n",
       "      <td>BUT.YZE</td>\n",
       "    </tr>\n",
       "    <tr>\n",
       "      <th>2</th>\n",
       "      <td>0</td>\n",
       "      <td>0</td>\n",
       "      <td>0.0000</td>\n",
       "      <td>0.0</td>\n",
       "      <td>0.0</td>\n",
       "      <td>0</td>\n",
       "      <td>0.000000</td>\n",
       "      <td>0.0</td>\n",
       "      <td>0.0</td>\n",
       "      <td>0.0</td>\n",
       "      <td>...</td>\n",
       "      <td>0.0</td>\n",
       "      <td>0</td>\n",
       "      <td>0.0</td>\n",
       "      <td>6384.590820</td>\n",
       "      <td>0.0</td>\n",
       "      <td>0.0</td>\n",
       "      <td>0.0</td>\n",
       "      <td>0.000000</td>\n",
       "      <td>0.0</td>\n",
       "      <td>BUT.YZE</td>\n",
       "    </tr>\n",
       "    <tr>\n",
       "      <th>3</th>\n",
       "      <td>0</td>\n",
       "      <td>0</td>\n",
       "      <td>0.0000</td>\n",
       "      <td>0.0</td>\n",
       "      <td>0.0</td>\n",
       "      <td>0</td>\n",
       "      <td>0.000000</td>\n",
       "      <td>0.0</td>\n",
       "      <td>0.0</td>\n",
       "      <td>0.0</td>\n",
       "      <td>...</td>\n",
       "      <td>0.0</td>\n",
       "      <td>0</td>\n",
       "      <td>0.0</td>\n",
       "      <td>0.000000</td>\n",
       "      <td>0.0</td>\n",
       "      <td>0.0</td>\n",
       "      <td>0.0</td>\n",
       "      <td>0.000000</td>\n",
       "      <td>0.0</td>\n",
       "      <td>BUT.YZE</td>\n",
       "    </tr>\n",
       "    <tr>\n",
       "      <th>4</th>\n",
       "      <td>0</td>\n",
       "      <td>0</td>\n",
       "      <td>0.0000</td>\n",
       "      <td>0.0</td>\n",
       "      <td>0.0</td>\n",
       "      <td>0</td>\n",
       "      <td>4701.712402</td>\n",
       "      <td>0.0</td>\n",
       "      <td>0.0</td>\n",
       "      <td>0.0</td>\n",
       "      <td>...</td>\n",
       "      <td>0.0</td>\n",
       "      <td>0</td>\n",
       "      <td>0.0</td>\n",
       "      <td>0.000000</td>\n",
       "      <td>0.0</td>\n",
       "      <td>0.0</td>\n",
       "      <td>0.0</td>\n",
       "      <td>0.000000</td>\n",
       "      <td>0.0</td>\n",
       "      <td>BUT.YZE</td>\n",
       "    </tr>\n",
       "    <tr>\n",
       "      <th>...</th>\n",
       "      <td>...</td>\n",
       "      <td>...</td>\n",
       "      <td>...</td>\n",
       "      <td>...</td>\n",
       "      <td>...</td>\n",
       "      <td>...</td>\n",
       "      <td>...</td>\n",
       "      <td>...</td>\n",
       "      <td>...</td>\n",
       "      <td>...</td>\n",
       "      <td>...</td>\n",
       "      <td>...</td>\n",
       "      <td>...</td>\n",
       "      <td>...</td>\n",
       "      <td>...</td>\n",
       "      <td>...</td>\n",
       "      <td>...</td>\n",
       "      <td>...</td>\n",
       "      <td>...</td>\n",
       "      <td>...</td>\n",
       "      <td>...</td>\n",
       "    </tr>\n",
       "    <tr>\n",
       "      <th>566</th>\n",
       "      <td>0</td>\n",
       "      <td>0</td>\n",
       "      <td>0.0000</td>\n",
       "      <td>0.0</td>\n",
       "      <td>0.0</td>\n",
       "      <td>0</td>\n",
       "      <td>0.000000</td>\n",
       "      <td>0.0</td>\n",
       "      <td>0.0</td>\n",
       "      <td>0.0</td>\n",
       "      <td>...</td>\n",
       "      <td>0.0</td>\n",
       "      <td>0</td>\n",
       "      <td>0.0</td>\n",
       "      <td>0.000000</td>\n",
       "      <td>0.0</td>\n",
       "      <td>0.0</td>\n",
       "      <td>0.0</td>\n",
       "      <td>0.000000</td>\n",
       "      <td>0.0</td>\n",
       "      <td>VVJ.KWJ</td>\n",
       "    </tr>\n",
       "    <tr>\n",
       "      <th>567</th>\n",
       "      <td>0</td>\n",
       "      <td>0</td>\n",
       "      <td>0.0000</td>\n",
       "      <td>0.0</td>\n",
       "      <td>0.0</td>\n",
       "      <td>0</td>\n",
       "      <td>0.000000</td>\n",
       "      <td>0.0</td>\n",
       "      <td>0.0</td>\n",
       "      <td>0.0</td>\n",
       "      <td>...</td>\n",
       "      <td>0.0</td>\n",
       "      <td>0</td>\n",
       "      <td>0.0</td>\n",
       "      <td>0.000000</td>\n",
       "      <td>0.0</td>\n",
       "      <td>0.0</td>\n",
       "      <td>0.0</td>\n",
       "      <td>0.000000</td>\n",
       "      <td>0.0</td>\n",
       "      <td>VVJ.KWJ</td>\n",
       "    </tr>\n",
       "    <tr>\n",
       "      <th>568</th>\n",
       "      <td>0</td>\n",
       "      <td>0</td>\n",
       "      <td>0.0000</td>\n",
       "      <td>0.0</td>\n",
       "      <td>0.0</td>\n",
       "      <td>0</td>\n",
       "      <td>0.000000</td>\n",
       "      <td>0.0</td>\n",
       "      <td>0.0</td>\n",
       "      <td>0.0</td>\n",
       "      <td>...</td>\n",
       "      <td>0.0</td>\n",
       "      <td>0</td>\n",
       "      <td>0.0</td>\n",
       "      <td>0.000000</td>\n",
       "      <td>0.0</td>\n",
       "      <td>0.0</td>\n",
       "      <td>0.0</td>\n",
       "      <td>24808.794922</td>\n",
       "      <td>0.0</td>\n",
       "      <td>VVJ.KWJ</td>\n",
       "    </tr>\n",
       "    <tr>\n",
       "      <th>569</th>\n",
       "      <td>0</td>\n",
       "      <td>0</td>\n",
       "      <td>145578.5625</td>\n",
       "      <td>0.0</td>\n",
       "      <td>0.0</td>\n",
       "      <td>0</td>\n",
       "      <td>0.000000</td>\n",
       "      <td>0.0</td>\n",
       "      <td>0.0</td>\n",
       "      <td>0.0</td>\n",
       "      <td>...</td>\n",
       "      <td>0.0</td>\n",
       "      <td>0</td>\n",
       "      <td>0.0</td>\n",
       "      <td>0.000000</td>\n",
       "      <td>0.0</td>\n",
       "      <td>0.0</td>\n",
       "      <td>0.0</td>\n",
       "      <td>0.000000</td>\n",
       "      <td>0.0</td>\n",
       "      <td>QBG.CRP</td>\n",
       "    </tr>\n",
       "    <tr>\n",
       "      <th>570</th>\n",
       "      <td>0</td>\n",
       "      <td>0</td>\n",
       "      <td>626135.8125</td>\n",
       "      <td>0.0</td>\n",
       "      <td>0.0</td>\n",
       "      <td>0</td>\n",
       "      <td>0.000000</td>\n",
       "      <td>0.0</td>\n",
       "      <td>0.0</td>\n",
       "      <td>0.0</td>\n",
       "      <td>...</td>\n",
       "      <td>0.0</td>\n",
       "      <td>0</td>\n",
       "      <td>0.0</td>\n",
       "      <td>0.000000</td>\n",
       "      <td>0.0</td>\n",
       "      <td>0.0</td>\n",
       "      <td>0.0</td>\n",
       "      <td>0.000000</td>\n",
       "      <td>0.0</td>\n",
       "      <td>QBG.CRP</td>\n",
       "    </tr>\n",
       "  </tbody>\n",
       "</table>\n",
       "<p>571 rows × 1301 columns</p>\n",
       "</div>"
      ],
      "text/plain": [
       "     0  1            2    3    4  5             6    7    8    9  ...  1291  \\\n",
       "0    0  0       0.0000  0.0  0.0  0  44431.921875  0.0  0.0  0.0  ...   0.0   \n",
       "1    0  0       0.0000  0.0  0.0  0      0.000000  0.0  0.0  0.0  ...   0.0   \n",
       "2    0  0       0.0000  0.0  0.0  0      0.000000  0.0  0.0  0.0  ...   0.0   \n",
       "3    0  0       0.0000  0.0  0.0  0      0.000000  0.0  0.0  0.0  ...   0.0   \n",
       "4    0  0       0.0000  0.0  0.0  0   4701.712402  0.0  0.0  0.0  ...   0.0   \n",
       "..  .. ..          ...  ...  ... ..           ...  ...  ...  ...  ...   ...   \n",
       "566  0  0       0.0000  0.0  0.0  0      0.000000  0.0  0.0  0.0  ...   0.0   \n",
       "567  0  0       0.0000  0.0  0.0  0      0.000000  0.0  0.0  0.0  ...   0.0   \n",
       "568  0  0       0.0000  0.0  0.0  0      0.000000  0.0  0.0  0.0  ...   0.0   \n",
       "569  0  0  145578.5625  0.0  0.0  0      0.000000  0.0  0.0  0.0  ...   0.0   \n",
       "570  0  0  626135.8125  0.0  0.0  0      0.000000  0.0  0.0  0.0  ...   0.0   \n",
       "\n",
       "     1292  1293          1294  1295  1296  1297          1298  1299    class  \n",
       "0       0   0.0      0.000000   0.0   0.0   0.0      0.000000   0.0  RTO.TQH  \n",
       "1       0   0.0  35438.351562   0.0   0.0   0.0      0.000000   0.0  BUT.YZE  \n",
       "2       0   0.0   6384.590820   0.0   0.0   0.0      0.000000   0.0  BUT.YZE  \n",
       "3       0   0.0      0.000000   0.0   0.0   0.0      0.000000   0.0  BUT.YZE  \n",
       "4       0   0.0      0.000000   0.0   0.0   0.0      0.000000   0.0  BUT.YZE  \n",
       "..    ...   ...           ...   ...   ...   ...           ...   ...      ...  \n",
       "566     0   0.0      0.000000   0.0   0.0   0.0      0.000000   0.0  VVJ.KWJ  \n",
       "567     0   0.0      0.000000   0.0   0.0   0.0      0.000000   0.0  VVJ.KWJ  \n",
       "568     0   0.0      0.000000   0.0   0.0   0.0  24808.794922   0.0  VVJ.KWJ  \n",
       "569     0   0.0      0.000000   0.0   0.0   0.0      0.000000   0.0  QBG.CRP  \n",
       "570     0   0.0      0.000000   0.0   0.0   0.0      0.000000   0.0  QBG.CRP  \n",
       "\n",
       "[571 rows x 1301 columns]"
      ]
     },
     "execution_count": 14,
     "metadata": {},
     "output_type": "execute_result"
    }
   ],
   "source": [
    "pure_df"
   ]
  },
  {
   "cell_type": "markdown",
   "metadata": {
    "id": "YhC-PRcxKCq-"
   },
   "source": [
    "Pure Data Frame without Unnecessary Features"
   ]
  },
  {
   "cell_type": "code",
   "execution_count": 15,
   "metadata": {
    "colab": {
     "base_uri": "https://localhost:8080/",
     "height": 590
    },
    "id": "yLUwCHKs_7Wp",
    "outputId": "35e9c575-0650-40a9-c6e4-3162beca7560"
   },
   "outputs": [
    {
     "data": {
      "text/html": [
       "<div>\n",
       "<style scoped>\n",
       "    .dataframe tbody tr th:only-of-type {\n",
       "        vertical-align: middle;\n",
       "    }\n",
       "\n",
       "    .dataframe tbody tr th {\n",
       "        vertical-align: top;\n",
       "    }\n",
       "\n",
       "    .dataframe thead th {\n",
       "        text-align: right;\n",
       "    }\n",
       "</style>\n",
       "<table border=\"1\" class=\"dataframe\">\n",
       "  <thead>\n",
       "    <tr style=\"text-align: right;\">\n",
       "      <th></th>\n",
       "      <th>0</th>\n",
       "      <th>1</th>\n",
       "      <th>2</th>\n",
       "      <th>3</th>\n",
       "      <th>4</th>\n",
       "      <th>5</th>\n",
       "      <th>6</th>\n",
       "      <th>7</th>\n",
       "      <th>8</th>\n",
       "      <th>9</th>\n",
       "      <th>...</th>\n",
       "      <th>1291</th>\n",
       "      <th>1292</th>\n",
       "      <th>1293</th>\n",
       "      <th>1294</th>\n",
       "      <th>1295</th>\n",
       "      <th>1296</th>\n",
       "      <th>1297</th>\n",
       "      <th>1298</th>\n",
       "      <th>1299</th>\n",
       "      <th>class</th>\n",
       "    </tr>\n",
       "  </thead>\n",
       "  <tbody>\n",
       "    <tr>\n",
       "      <th>0</th>\n",
       "      <td>0</td>\n",
       "      <td>0.0</td>\n",
       "      <td>0.0</td>\n",
       "      <td>0.0</td>\n",
       "      <td>0.0</td>\n",
       "      <td>0</td>\n",
       "      <td>0.0</td>\n",
       "      <td>0.0</td>\n",
       "      <td>0.000000</td>\n",
       "      <td>0.000000</td>\n",
       "      <td>...</td>\n",
       "      <td>0</td>\n",
       "      <td>0</td>\n",
       "      <td>0.0</td>\n",
       "      <td>0.0</td>\n",
       "      <td>0.0</td>\n",
       "      <td>0.000000</td>\n",
       "      <td>0.0</td>\n",
       "      <td>0.0</td>\n",
       "      <td>0.000000</td>\n",
       "      <td>NYV.XSY NYV.VCE</td>\n",
       "    </tr>\n",
       "    <tr>\n",
       "      <th>1</th>\n",
       "      <td>0</td>\n",
       "      <td>0.0</td>\n",
       "      <td>0.0</td>\n",
       "      <td>0.0</td>\n",
       "      <td>0.0</td>\n",
       "      <td>0</td>\n",
       "      <td>0.0</td>\n",
       "      <td>0.0</td>\n",
       "      <td>0.000000</td>\n",
       "      <td>10162.613281</td>\n",
       "      <td>...</td>\n",
       "      <td>0</td>\n",
       "      <td>0</td>\n",
       "      <td>0.0</td>\n",
       "      <td>0.0</td>\n",
       "      <td>0.0</td>\n",
       "      <td>11427.124023</td>\n",
       "      <td>0.0</td>\n",
       "      <td>0.0</td>\n",
       "      <td>0.000000</td>\n",
       "      <td>NYV.XSY NYV.VCE</td>\n",
       "    </tr>\n",
       "    <tr>\n",
       "      <th>2</th>\n",
       "      <td>0</td>\n",
       "      <td>0.0</td>\n",
       "      <td>0.0</td>\n",
       "      <td>0.0</td>\n",
       "      <td>0.0</td>\n",
       "      <td>0</td>\n",
       "      <td>0.0</td>\n",
       "      <td>0.0</td>\n",
       "      <td>0.000000</td>\n",
       "      <td>0.000000</td>\n",
       "      <td>...</td>\n",
       "      <td>0</td>\n",
       "      <td>0</td>\n",
       "      <td>0.0</td>\n",
       "      <td>0.0</td>\n",
       "      <td>0.0</td>\n",
       "      <td>12094.415039</td>\n",
       "      <td>0.0</td>\n",
       "      <td>0.0</td>\n",
       "      <td>0.000000</td>\n",
       "      <td>NYV.XSY NYV.VCE</td>\n",
       "    </tr>\n",
       "    <tr>\n",
       "      <th>3</th>\n",
       "      <td>0</td>\n",
       "      <td>0.0</td>\n",
       "      <td>0.0</td>\n",
       "      <td>0.0</td>\n",
       "      <td>0.0</td>\n",
       "      <td>0</td>\n",
       "      <td>0.0</td>\n",
       "      <td>0.0</td>\n",
       "      <td>0.000000</td>\n",
       "      <td>0.000000</td>\n",
       "      <td>...</td>\n",
       "      <td>0</td>\n",
       "      <td>0</td>\n",
       "      <td>0.0</td>\n",
       "      <td>0.0</td>\n",
       "      <td>0.0</td>\n",
       "      <td>0.000000</td>\n",
       "      <td>0.0</td>\n",
       "      <td>0.0</td>\n",
       "      <td>0.000000</td>\n",
       "      <td>NYV.XSY NYV.VCE</td>\n",
       "    </tr>\n",
       "    <tr>\n",
       "      <th>4</th>\n",
       "      <td>0</td>\n",
       "      <td>0.0</td>\n",
       "      <td>0.0</td>\n",
       "      <td>0.0</td>\n",
       "      <td>0.0</td>\n",
       "      <td>0</td>\n",
       "      <td>0.0</td>\n",
       "      <td>0.0</td>\n",
       "      <td>0.000000</td>\n",
       "      <td>15409.125977</td>\n",
       "      <td>...</td>\n",
       "      <td>0</td>\n",
       "      <td>0</td>\n",
       "      <td>0.0</td>\n",
       "      <td>0.0</td>\n",
       "      <td>0.0</td>\n",
       "      <td>0.000000</td>\n",
       "      <td>0.0</td>\n",
       "      <td>0.0</td>\n",
       "      <td>35418.402344</td>\n",
       "      <td>NYV.XSY NYV.VCE</td>\n",
       "    </tr>\n",
       "    <tr>\n",
       "      <th>...</th>\n",
       "      <td>...</td>\n",
       "      <td>...</td>\n",
       "      <td>...</td>\n",
       "      <td>...</td>\n",
       "      <td>...</td>\n",
       "      <td>...</td>\n",
       "      <td>...</td>\n",
       "      <td>...</td>\n",
       "      <td>...</td>\n",
       "      <td>...</td>\n",
       "      <td>...</td>\n",
       "      <td>...</td>\n",
       "      <td>...</td>\n",
       "      <td>...</td>\n",
       "      <td>...</td>\n",
       "      <td>...</td>\n",
       "      <td>...</td>\n",
       "      <td>...</td>\n",
       "      <td>...</td>\n",
       "      <td>...</td>\n",
       "      <td>...</td>\n",
       "    </tr>\n",
       "    <tr>\n",
       "      <th>355</th>\n",
       "      <td>0</td>\n",
       "      <td>0.0</td>\n",
       "      <td>0.0</td>\n",
       "      <td>0.0</td>\n",
       "      <td>0.0</td>\n",
       "      <td>0</td>\n",
       "      <td>0.0</td>\n",
       "      <td>0.0</td>\n",
       "      <td>31279.455078</td>\n",
       "      <td>0.000000</td>\n",
       "      <td>...</td>\n",
       "      <td>0</td>\n",
       "      <td>0</td>\n",
       "      <td>0.0</td>\n",
       "      <td>0.0</td>\n",
       "      <td>0.0</td>\n",
       "      <td>0.000000</td>\n",
       "      <td>0.0</td>\n",
       "      <td>0.0</td>\n",
       "      <td>0.000000</td>\n",
       "      <td>AUG.AEX BUT.DNW</td>\n",
       "    </tr>\n",
       "    <tr>\n",
       "      <th>356</th>\n",
       "      <td>0</td>\n",
       "      <td>0.0</td>\n",
       "      <td>0.0</td>\n",
       "      <td>0.0</td>\n",
       "      <td>0.0</td>\n",
       "      <td>0</td>\n",
       "      <td>0.0</td>\n",
       "      <td>0.0</td>\n",
       "      <td>31064.574219</td>\n",
       "      <td>0.000000</td>\n",
       "      <td>...</td>\n",
       "      <td>0</td>\n",
       "      <td>0</td>\n",
       "      <td>0.0</td>\n",
       "      <td>0.0</td>\n",
       "      <td>0.0</td>\n",
       "      <td>0.000000</td>\n",
       "      <td>0.0</td>\n",
       "      <td>0.0</td>\n",
       "      <td>0.000000</td>\n",
       "      <td>AUG.AEX BUT.DNW</td>\n",
       "    </tr>\n",
       "    <tr>\n",
       "      <th>357</th>\n",
       "      <td>0</td>\n",
       "      <td>0.0</td>\n",
       "      <td>0.0</td>\n",
       "      <td>0.0</td>\n",
       "      <td>0.0</td>\n",
       "      <td>0</td>\n",
       "      <td>0.0</td>\n",
       "      <td>0.0</td>\n",
       "      <td>17840.945312</td>\n",
       "      <td>0.000000</td>\n",
       "      <td>...</td>\n",
       "      <td>0</td>\n",
       "      <td>0</td>\n",
       "      <td>0.0</td>\n",
       "      <td>0.0</td>\n",
       "      <td>0.0</td>\n",
       "      <td>0.000000</td>\n",
       "      <td>0.0</td>\n",
       "      <td>0.0</td>\n",
       "      <td>0.000000</td>\n",
       "      <td>AUG.AEX BUT.DNW</td>\n",
       "    </tr>\n",
       "    <tr>\n",
       "      <th>358</th>\n",
       "      <td>0</td>\n",
       "      <td>0.0</td>\n",
       "      <td>0.0</td>\n",
       "      <td>0.0</td>\n",
       "      <td>0.0</td>\n",
       "      <td>0</td>\n",
       "      <td>0.0</td>\n",
       "      <td>0.0</td>\n",
       "      <td>82506.257812</td>\n",
       "      <td>0.000000</td>\n",
       "      <td>...</td>\n",
       "      <td>0</td>\n",
       "      <td>0</td>\n",
       "      <td>0.0</td>\n",
       "      <td>0.0</td>\n",
       "      <td>0.0</td>\n",
       "      <td>0.000000</td>\n",
       "      <td>0.0</td>\n",
       "      <td>0.0</td>\n",
       "      <td>0.000000</td>\n",
       "      <td>AUG.AEX BUT.DNW</td>\n",
       "    </tr>\n",
       "    <tr>\n",
       "      <th>359</th>\n",
       "      <td>0</td>\n",
       "      <td>0.0</td>\n",
       "      <td>0.0</td>\n",
       "      <td>0.0</td>\n",
       "      <td>0.0</td>\n",
       "      <td>0</td>\n",
       "      <td>0.0</td>\n",
       "      <td>0.0</td>\n",
       "      <td>52676.558594</td>\n",
       "      <td>0.000000</td>\n",
       "      <td>...</td>\n",
       "      <td>0</td>\n",
       "      <td>0</td>\n",
       "      <td>0.0</td>\n",
       "      <td>0.0</td>\n",
       "      <td>0.0</td>\n",
       "      <td>0.000000</td>\n",
       "      <td>0.0</td>\n",
       "      <td>0.0</td>\n",
       "      <td>0.000000</td>\n",
       "      <td>AUG.AEX BUT.DNW</td>\n",
       "    </tr>\n",
       "  </tbody>\n",
       "</table>\n",
       "<p>360 rows × 1301 columns</p>\n",
       "</div>"
      ],
      "text/plain": [
       "     0    1    2    3    4  5    6    7             8             9  ...  \\\n",
       "0    0  0.0  0.0  0.0  0.0  0  0.0  0.0      0.000000      0.000000  ...   \n",
       "1    0  0.0  0.0  0.0  0.0  0  0.0  0.0      0.000000  10162.613281  ...   \n",
       "2    0  0.0  0.0  0.0  0.0  0  0.0  0.0      0.000000      0.000000  ...   \n",
       "3    0  0.0  0.0  0.0  0.0  0  0.0  0.0      0.000000      0.000000  ...   \n",
       "4    0  0.0  0.0  0.0  0.0  0  0.0  0.0      0.000000  15409.125977  ...   \n",
       "..  ..  ...  ...  ...  ... ..  ...  ...           ...           ...  ...   \n",
       "355  0  0.0  0.0  0.0  0.0  0  0.0  0.0  31279.455078      0.000000  ...   \n",
       "356  0  0.0  0.0  0.0  0.0  0  0.0  0.0  31064.574219      0.000000  ...   \n",
       "357  0  0.0  0.0  0.0  0.0  0  0.0  0.0  17840.945312      0.000000  ...   \n",
       "358  0  0.0  0.0  0.0  0.0  0  0.0  0.0  82506.257812      0.000000  ...   \n",
       "359  0  0.0  0.0  0.0  0.0  0  0.0  0.0  52676.558594      0.000000  ...   \n",
       "\n",
       "     1291  1292  1293  1294  1295          1296  1297  1298          1299  \\\n",
       "0       0     0   0.0   0.0   0.0      0.000000   0.0   0.0      0.000000   \n",
       "1       0     0   0.0   0.0   0.0  11427.124023   0.0   0.0      0.000000   \n",
       "2       0     0   0.0   0.0   0.0  12094.415039   0.0   0.0      0.000000   \n",
       "3       0     0   0.0   0.0   0.0      0.000000   0.0   0.0      0.000000   \n",
       "4       0     0   0.0   0.0   0.0      0.000000   0.0   0.0  35418.402344   \n",
       "..    ...   ...   ...   ...   ...           ...   ...   ...           ...   \n",
       "355     0     0   0.0   0.0   0.0      0.000000   0.0   0.0      0.000000   \n",
       "356     0     0   0.0   0.0   0.0      0.000000   0.0   0.0      0.000000   \n",
       "357     0     0   0.0   0.0   0.0      0.000000   0.0   0.0      0.000000   \n",
       "358     0     0   0.0   0.0   0.0      0.000000   0.0   0.0      0.000000   \n",
       "359     0     0   0.0   0.0   0.0      0.000000   0.0   0.0      0.000000   \n",
       "\n",
       "               class  \n",
       "0    NYV.XSY NYV.VCE  \n",
       "1    NYV.XSY NYV.VCE  \n",
       "2    NYV.XSY NYV.VCE  \n",
       "3    NYV.XSY NYV.VCE  \n",
       "4    NYV.XSY NYV.VCE  \n",
       "..               ...  \n",
       "355  AUG.AEX BUT.DNW  \n",
       "356  AUG.AEX BUT.DNW  \n",
       "357  AUG.AEX BUT.DNW  \n",
       "358  AUG.AEX BUT.DNW  \n",
       "359  AUG.AEX BUT.DNW  \n",
       "\n",
       "[360 rows x 1301 columns]"
      ]
     },
     "execution_count": 15,
     "metadata": {},
     "output_type": "execute_result"
    }
   ],
   "source": [
    "mixed_df"
   ]
  },
  {
   "cell_type": "markdown",
   "metadata": {
    "id": "pwIs_4UGBtqF"
   },
   "source": [
    "### IV. Creating X and Y Data Frames"
   ]
  },
  {
   "cell_type": "markdown",
   "metadata": {
    "id": "pRuJZ8-1KPL8"
   },
   "source": [
    "We brought pure and mixed data frames to the same format. So we will get x and y for each dataframes and then concatenate them vertically to get our final x and y dataframes."
   ]
  },
  {
   "cell_type": "code",
   "execution_count": 16,
   "metadata": {
    "id": "O-AEiLs_Lnv8"
   },
   "outputs": [],
   "source": [
    "x_pure = pure_df.drop(['class'], axis=1)\n",
    "x_mixed = mixed_df.drop(['class'], axis=1)\n",
    "\n",
    "y_pure = pure_df.filter(['class'], axis=1)\n",
    "y_mixed = mixed_df.filter(['class'], axis=1)\n",
    "\n",
    "x = pd.concat([x_pure, x_mixed])\n",
    "y = pd.concat([y_pure, y_mixed])"
   ]
  },
  {
   "cell_type": "code",
   "execution_count": 17,
   "metadata": {
    "colab": {
     "base_uri": "https://localhost:8080/",
     "height": 422
    },
    "id": "3w66lHv4Pd-b",
    "outputId": "a618345d-f95b-4cf1-b285-3ba3ab9884ec"
   },
   "outputs": [
    {
     "data": {
      "text/html": [
       "<div>\n",
       "<style scoped>\n",
       "    .dataframe tbody tr th:only-of-type {\n",
       "        vertical-align: middle;\n",
       "    }\n",
       "\n",
       "    .dataframe tbody tr th {\n",
       "        vertical-align: top;\n",
       "    }\n",
       "\n",
       "    .dataframe thead th {\n",
       "        text-align: right;\n",
       "    }\n",
       "</style>\n",
       "<table border=\"1\" class=\"dataframe\">\n",
       "  <thead>\n",
       "    <tr style=\"text-align: right;\">\n",
       "      <th></th>\n",
       "      <th>0</th>\n",
       "      <th>1</th>\n",
       "      <th>2</th>\n",
       "      <th>3</th>\n",
       "      <th>4</th>\n",
       "      <th>5</th>\n",
       "      <th>6</th>\n",
       "      <th>7</th>\n",
       "      <th>8</th>\n",
       "      <th>9</th>\n",
       "      <th>...</th>\n",
       "      <th>1290</th>\n",
       "      <th>1291</th>\n",
       "      <th>1292</th>\n",
       "      <th>1293</th>\n",
       "      <th>1294</th>\n",
       "      <th>1295</th>\n",
       "      <th>1296</th>\n",
       "      <th>1297</th>\n",
       "      <th>1298</th>\n",
       "      <th>1299</th>\n",
       "    </tr>\n",
       "  </thead>\n",
       "  <tbody>\n",
       "    <tr>\n",
       "      <th>0</th>\n",
       "      <td>0</td>\n",
       "      <td>0.0</td>\n",
       "      <td>0.0</td>\n",
       "      <td>0.0</td>\n",
       "      <td>0.0</td>\n",
       "      <td>0</td>\n",
       "      <td>44431.921875</td>\n",
       "      <td>0.0</td>\n",
       "      <td>0.000000</td>\n",
       "      <td>0.0</td>\n",
       "      <td>...</td>\n",
       "      <td>0.000000</td>\n",
       "      <td>0.0</td>\n",
       "      <td>0</td>\n",
       "      <td>0.0</td>\n",
       "      <td>0.000000</td>\n",
       "      <td>0.0</td>\n",
       "      <td>0.0</td>\n",
       "      <td>0.0</td>\n",
       "      <td>0.0</td>\n",
       "      <td>0.0</td>\n",
       "    </tr>\n",
       "    <tr>\n",
       "      <th>1</th>\n",
       "      <td>0</td>\n",
       "      <td>0.0</td>\n",
       "      <td>0.0</td>\n",
       "      <td>0.0</td>\n",
       "      <td>0.0</td>\n",
       "      <td>0</td>\n",
       "      <td>0.000000</td>\n",
       "      <td>0.0</td>\n",
       "      <td>0.000000</td>\n",
       "      <td>0.0</td>\n",
       "      <td>...</td>\n",
       "      <td>27667.777344</td>\n",
       "      <td>0.0</td>\n",
       "      <td>0</td>\n",
       "      <td>0.0</td>\n",
       "      <td>35438.351562</td>\n",
       "      <td>0.0</td>\n",
       "      <td>0.0</td>\n",
       "      <td>0.0</td>\n",
       "      <td>0.0</td>\n",
       "      <td>0.0</td>\n",
       "    </tr>\n",
       "    <tr>\n",
       "      <th>2</th>\n",
       "      <td>0</td>\n",
       "      <td>0.0</td>\n",
       "      <td>0.0</td>\n",
       "      <td>0.0</td>\n",
       "      <td>0.0</td>\n",
       "      <td>0</td>\n",
       "      <td>0.000000</td>\n",
       "      <td>0.0</td>\n",
       "      <td>0.000000</td>\n",
       "      <td>0.0</td>\n",
       "      <td>...</td>\n",
       "      <td>59820.968750</td>\n",
       "      <td>0.0</td>\n",
       "      <td>0</td>\n",
       "      <td>0.0</td>\n",
       "      <td>6384.590820</td>\n",
       "      <td>0.0</td>\n",
       "      <td>0.0</td>\n",
       "      <td>0.0</td>\n",
       "      <td>0.0</td>\n",
       "      <td>0.0</td>\n",
       "    </tr>\n",
       "    <tr>\n",
       "      <th>3</th>\n",
       "      <td>0</td>\n",
       "      <td>0.0</td>\n",
       "      <td>0.0</td>\n",
       "      <td>0.0</td>\n",
       "      <td>0.0</td>\n",
       "      <td>0</td>\n",
       "      <td>0.000000</td>\n",
       "      <td>0.0</td>\n",
       "      <td>0.000000</td>\n",
       "      <td>0.0</td>\n",
       "      <td>...</td>\n",
       "      <td>0.000000</td>\n",
       "      <td>0.0</td>\n",
       "      <td>0</td>\n",
       "      <td>0.0</td>\n",
       "      <td>0.000000</td>\n",
       "      <td>0.0</td>\n",
       "      <td>0.0</td>\n",
       "      <td>0.0</td>\n",
       "      <td>0.0</td>\n",
       "      <td>0.0</td>\n",
       "    </tr>\n",
       "    <tr>\n",
       "      <th>4</th>\n",
       "      <td>0</td>\n",
       "      <td>0.0</td>\n",
       "      <td>0.0</td>\n",
       "      <td>0.0</td>\n",
       "      <td>0.0</td>\n",
       "      <td>0</td>\n",
       "      <td>4701.712402</td>\n",
       "      <td>0.0</td>\n",
       "      <td>0.000000</td>\n",
       "      <td>0.0</td>\n",
       "      <td>...</td>\n",
       "      <td>3913.969727</td>\n",
       "      <td>0.0</td>\n",
       "      <td>0</td>\n",
       "      <td>0.0</td>\n",
       "      <td>0.000000</td>\n",
       "      <td>0.0</td>\n",
       "      <td>0.0</td>\n",
       "      <td>0.0</td>\n",
       "      <td>0.0</td>\n",
       "      <td>0.0</td>\n",
       "    </tr>\n",
       "    <tr>\n",
       "      <th>...</th>\n",
       "      <td>...</td>\n",
       "      <td>...</td>\n",
       "      <td>...</td>\n",
       "      <td>...</td>\n",
       "      <td>...</td>\n",
       "      <td>...</td>\n",
       "      <td>...</td>\n",
       "      <td>...</td>\n",
       "      <td>...</td>\n",
       "      <td>...</td>\n",
       "      <td>...</td>\n",
       "      <td>...</td>\n",
       "      <td>...</td>\n",
       "      <td>...</td>\n",
       "      <td>...</td>\n",
       "      <td>...</td>\n",
       "      <td>...</td>\n",
       "      <td>...</td>\n",
       "      <td>...</td>\n",
       "      <td>...</td>\n",
       "      <td>...</td>\n",
       "    </tr>\n",
       "    <tr>\n",
       "      <th>355</th>\n",
       "      <td>0</td>\n",
       "      <td>0.0</td>\n",
       "      <td>0.0</td>\n",
       "      <td>0.0</td>\n",
       "      <td>0.0</td>\n",
       "      <td>0</td>\n",
       "      <td>0.000000</td>\n",
       "      <td>0.0</td>\n",
       "      <td>31279.455078</td>\n",
       "      <td>0.0</td>\n",
       "      <td>...</td>\n",
       "      <td>0.000000</td>\n",
       "      <td>0.0</td>\n",
       "      <td>0</td>\n",
       "      <td>0.0</td>\n",
       "      <td>0.000000</td>\n",
       "      <td>0.0</td>\n",
       "      <td>0.0</td>\n",
       "      <td>0.0</td>\n",
       "      <td>0.0</td>\n",
       "      <td>0.0</td>\n",
       "    </tr>\n",
       "    <tr>\n",
       "      <th>356</th>\n",
       "      <td>0</td>\n",
       "      <td>0.0</td>\n",
       "      <td>0.0</td>\n",
       "      <td>0.0</td>\n",
       "      <td>0.0</td>\n",
       "      <td>0</td>\n",
       "      <td>0.000000</td>\n",
       "      <td>0.0</td>\n",
       "      <td>31064.574219</td>\n",
       "      <td>0.0</td>\n",
       "      <td>...</td>\n",
       "      <td>0.000000</td>\n",
       "      <td>0.0</td>\n",
       "      <td>0</td>\n",
       "      <td>0.0</td>\n",
       "      <td>0.000000</td>\n",
       "      <td>0.0</td>\n",
       "      <td>0.0</td>\n",
       "      <td>0.0</td>\n",
       "      <td>0.0</td>\n",
       "      <td>0.0</td>\n",
       "    </tr>\n",
       "    <tr>\n",
       "      <th>357</th>\n",
       "      <td>0</td>\n",
       "      <td>0.0</td>\n",
       "      <td>0.0</td>\n",
       "      <td>0.0</td>\n",
       "      <td>0.0</td>\n",
       "      <td>0</td>\n",
       "      <td>0.000000</td>\n",
       "      <td>0.0</td>\n",
       "      <td>17840.945312</td>\n",
       "      <td>0.0</td>\n",
       "      <td>...</td>\n",
       "      <td>0.000000</td>\n",
       "      <td>0.0</td>\n",
       "      <td>0</td>\n",
       "      <td>0.0</td>\n",
       "      <td>0.000000</td>\n",
       "      <td>0.0</td>\n",
       "      <td>0.0</td>\n",
       "      <td>0.0</td>\n",
       "      <td>0.0</td>\n",
       "      <td>0.0</td>\n",
       "    </tr>\n",
       "    <tr>\n",
       "      <th>358</th>\n",
       "      <td>0</td>\n",
       "      <td>0.0</td>\n",
       "      <td>0.0</td>\n",
       "      <td>0.0</td>\n",
       "      <td>0.0</td>\n",
       "      <td>0</td>\n",
       "      <td>0.000000</td>\n",
       "      <td>0.0</td>\n",
       "      <td>82506.257812</td>\n",
       "      <td>0.0</td>\n",
       "      <td>...</td>\n",
       "      <td>0.000000</td>\n",
       "      <td>0.0</td>\n",
       "      <td>0</td>\n",
       "      <td>0.0</td>\n",
       "      <td>0.000000</td>\n",
       "      <td>0.0</td>\n",
       "      <td>0.0</td>\n",
       "      <td>0.0</td>\n",
       "      <td>0.0</td>\n",
       "      <td>0.0</td>\n",
       "    </tr>\n",
       "    <tr>\n",
       "      <th>359</th>\n",
       "      <td>0</td>\n",
       "      <td>0.0</td>\n",
       "      <td>0.0</td>\n",
       "      <td>0.0</td>\n",
       "      <td>0.0</td>\n",
       "      <td>0</td>\n",
       "      <td>0.000000</td>\n",
       "      <td>0.0</td>\n",
       "      <td>52676.558594</td>\n",
       "      <td>0.0</td>\n",
       "      <td>...</td>\n",
       "      <td>0.000000</td>\n",
       "      <td>0.0</td>\n",
       "      <td>0</td>\n",
       "      <td>0.0</td>\n",
       "      <td>0.000000</td>\n",
       "      <td>0.0</td>\n",
       "      <td>0.0</td>\n",
       "      <td>0.0</td>\n",
       "      <td>0.0</td>\n",
       "      <td>0.0</td>\n",
       "    </tr>\n",
       "  </tbody>\n",
       "</table>\n",
       "<p>931 rows × 1300 columns</p>\n",
       "</div>"
      ],
      "text/plain": [
       "     0     1     2     3     4     5             6     7             8     \\\n",
       "0       0   0.0   0.0   0.0   0.0     0  44431.921875   0.0      0.000000   \n",
       "1       0   0.0   0.0   0.0   0.0     0      0.000000   0.0      0.000000   \n",
       "2       0   0.0   0.0   0.0   0.0     0      0.000000   0.0      0.000000   \n",
       "3       0   0.0   0.0   0.0   0.0     0      0.000000   0.0      0.000000   \n",
       "4       0   0.0   0.0   0.0   0.0     0   4701.712402   0.0      0.000000   \n",
       "..    ...   ...   ...   ...   ...   ...           ...   ...           ...   \n",
       "355     0   0.0   0.0   0.0   0.0     0      0.000000   0.0  31279.455078   \n",
       "356     0   0.0   0.0   0.0   0.0     0      0.000000   0.0  31064.574219   \n",
       "357     0   0.0   0.0   0.0   0.0     0      0.000000   0.0  17840.945312   \n",
       "358     0   0.0   0.0   0.0   0.0     0      0.000000   0.0  82506.257812   \n",
       "359     0   0.0   0.0   0.0   0.0     0      0.000000   0.0  52676.558594   \n",
       "\n",
       "     9     ...          1290  1291  1292  1293          1294  1295  1296  \\\n",
       "0     0.0  ...      0.000000   0.0     0   0.0      0.000000   0.0   0.0   \n",
       "1     0.0  ...  27667.777344   0.0     0   0.0  35438.351562   0.0   0.0   \n",
       "2     0.0  ...  59820.968750   0.0     0   0.0   6384.590820   0.0   0.0   \n",
       "3     0.0  ...      0.000000   0.0     0   0.0      0.000000   0.0   0.0   \n",
       "4     0.0  ...   3913.969727   0.0     0   0.0      0.000000   0.0   0.0   \n",
       "..    ...  ...           ...   ...   ...   ...           ...   ...   ...   \n",
       "355   0.0  ...      0.000000   0.0     0   0.0      0.000000   0.0   0.0   \n",
       "356   0.0  ...      0.000000   0.0     0   0.0      0.000000   0.0   0.0   \n",
       "357   0.0  ...      0.000000   0.0     0   0.0      0.000000   0.0   0.0   \n",
       "358   0.0  ...      0.000000   0.0     0   0.0      0.000000   0.0   0.0   \n",
       "359   0.0  ...      0.000000   0.0     0   0.0      0.000000   0.0   0.0   \n",
       "\n",
       "     1297  1298  1299  \n",
       "0     0.0   0.0   0.0  \n",
       "1     0.0   0.0   0.0  \n",
       "2     0.0   0.0   0.0  \n",
       "3     0.0   0.0   0.0  \n",
       "4     0.0   0.0   0.0  \n",
       "..    ...   ...   ...  \n",
       "355   0.0   0.0   0.0  \n",
       "356   0.0   0.0   0.0  \n",
       "357   0.0   0.0   0.0  \n",
       "358   0.0   0.0   0.0  \n",
       "359   0.0   0.0   0.0  \n",
       "\n",
       "[931 rows x 1300 columns]"
      ]
     },
     "execution_count": 17,
     "metadata": {},
     "output_type": "execute_result"
    }
   ],
   "source": [
    "x"
   ]
  },
  {
   "cell_type": "code",
   "execution_count": 18,
   "metadata": {
    "colab": {
     "base_uri": "https://localhost:8080/",
     "height": 402
    },
    "id": "oG7unmwdPfsw",
    "outputId": "e829cf43-19cf-4a9f-97c8-56456a415ab8"
   },
   "outputs": [
    {
     "data": {
      "text/html": [
       "<div>\n",
       "<style scoped>\n",
       "    .dataframe tbody tr th:only-of-type {\n",
       "        vertical-align: middle;\n",
       "    }\n",
       "\n",
       "    .dataframe tbody tr th {\n",
       "        vertical-align: top;\n",
       "    }\n",
       "\n",
       "    .dataframe thead th {\n",
       "        text-align: right;\n",
       "    }\n",
       "</style>\n",
       "<table border=\"1\" class=\"dataframe\">\n",
       "  <thead>\n",
       "    <tr style=\"text-align: right;\">\n",
       "      <th></th>\n",
       "      <th>class</th>\n",
       "    </tr>\n",
       "  </thead>\n",
       "  <tbody>\n",
       "    <tr>\n",
       "      <th>0</th>\n",
       "      <td>RTO.TQH</td>\n",
       "    </tr>\n",
       "    <tr>\n",
       "      <th>1</th>\n",
       "      <td>BUT.YZE</td>\n",
       "    </tr>\n",
       "    <tr>\n",
       "      <th>2</th>\n",
       "      <td>BUT.YZE</td>\n",
       "    </tr>\n",
       "    <tr>\n",
       "      <th>3</th>\n",
       "      <td>BUT.YZE</td>\n",
       "    </tr>\n",
       "    <tr>\n",
       "      <th>4</th>\n",
       "      <td>BUT.YZE</td>\n",
       "    </tr>\n",
       "    <tr>\n",
       "      <th>...</th>\n",
       "      <td>...</td>\n",
       "    </tr>\n",
       "    <tr>\n",
       "      <th>355</th>\n",
       "      <td>AUG.AEX BUT.DNW</td>\n",
       "    </tr>\n",
       "    <tr>\n",
       "      <th>356</th>\n",
       "      <td>AUG.AEX BUT.DNW</td>\n",
       "    </tr>\n",
       "    <tr>\n",
       "      <th>357</th>\n",
       "      <td>AUG.AEX BUT.DNW</td>\n",
       "    </tr>\n",
       "    <tr>\n",
       "      <th>358</th>\n",
       "      <td>AUG.AEX BUT.DNW</td>\n",
       "    </tr>\n",
       "    <tr>\n",
       "      <th>359</th>\n",
       "      <td>AUG.AEX BUT.DNW</td>\n",
       "    </tr>\n",
       "  </tbody>\n",
       "</table>\n",
       "<p>931 rows × 1 columns</p>\n",
       "</div>"
      ],
      "text/plain": [
       "               class\n",
       "0            RTO.TQH\n",
       "1            BUT.YZE\n",
       "2            BUT.YZE\n",
       "3            BUT.YZE\n",
       "4            BUT.YZE\n",
       "..               ...\n",
       "355  AUG.AEX BUT.DNW\n",
       "356  AUG.AEX BUT.DNW\n",
       "357  AUG.AEX BUT.DNW\n",
       "358  AUG.AEX BUT.DNW\n",
       "359  AUG.AEX BUT.DNW\n",
       "\n",
       "[931 rows x 1 columns]"
      ]
     },
     "execution_count": 18,
     "metadata": {},
     "output_type": "execute_result"
    }
   ],
   "source": [
    "y"
   ]
  },
  {
   "cell_type": "markdown",
   "metadata": {
    "id": "fM43U9e8Fzu-"
   },
   "source": [
    "### V. Extracting Number of Class Labels and Their Names"
   ]
  },
  {
   "cell_type": "markdown",
   "metadata": {
    "id": "qu1-Ud1nLPrS"
   },
   "source": [
    "When we get unique values of y, we have an array of class labels without repeat. And the first dimension of this array gives us the number of class labels."
   ]
  },
  {
   "cell_type": "code",
   "execution_count": 19,
   "metadata": {
    "id": "OVwUovCYFaF9"
   },
   "outputs": [],
   "source": [
    "import numpy as np\n",
    "\n",
    "unique_classes = np.unique(y.values.ravel())"
   ]
  },
  {
   "cell_type": "code",
   "execution_count": 20,
   "metadata": {
    "colab": {
     "base_uri": "https://localhost:8080/"
    },
    "id": "rUK7nMAi2F-p",
    "outputId": "4f35742a-b36e-4edd-dd3f-db6a1aad3681"
   },
   "outputs": [
    {
     "name": "stdout",
     "output_type": "stream",
     "text": [
      "Class Labels:\n",
      " ['AUG.AEX' 'AUG.AEX AUG.HSS' 'AUG.AEX BUT.DNW' 'AUG.HSS' 'BUT.BIK'\n",
      " 'BUT.DNW' 'BUT.TRH' 'BUT.YZE' 'EMD.FZO' 'EMD.FZO AUG.AEX' 'EMD.WXC'\n",
      " 'JNH.FLH' 'JNH.ZIJ' 'JNH.ZIJ JNH.FLH' 'NYV.VCE' 'NYV.XSY'\n",
      " 'NYV.XSY NYV.VCE' 'QBG.CRP' 'QBG.CRP BUT.YZE' 'QBG.KGI' 'QWP.DRH'\n",
      " 'QWP.DRH BUT.YZE' 'QWP.LRO' 'RTO.JFR' 'RTO.JFR NYV.VCE' 'RTO.TQH'\n",
      " 'VVJ.KSF' 'VVJ.KSF VVJ.KWJ' 'VVJ.KWJ' 'VVJ.KWJ JNH.ZIJ']\n"
     ]
    }
   ],
   "source": [
    "print(\"Class Labels:\\n\", unique_classes)"
   ]
  },
  {
   "cell_type": "code",
   "execution_count": 21,
   "metadata": {
    "colab": {
     "base_uri": "https://localhost:8080/"
    },
    "id": "dh_Hxf5oHJvP",
    "outputId": "16a19e9a-a086-4c09-a1d5-f5b6ece994db"
   },
   "outputs": [
    {
     "name": "stdout",
     "output_type": "stream",
     "text": [
      "Number of Class Labels = 30\n"
     ]
    }
   ],
   "source": [
    "print(\"Number of Class Labels =\", unique_classes.shape[0])"
   ]
  },
  {
   "cell_type": "markdown",
   "metadata": {
    "id": "dH8bW4KuJFxG"
   },
   "source": [
    "### VI. Scaling Values"
   ]
  },
  {
   "cell_type": "markdown",
   "metadata": {
    "id": "0b74SOsvLxJr"
   },
   "source": [
    "Our data is not scaled and we are going to use distance based algorithms like SVM, K-Means. So we should scale our data using standard scaler."
   ]
  },
  {
   "cell_type": "code",
   "execution_count": 22,
   "metadata": {
    "id": "gTqFC30FJJGU"
   },
   "outputs": [],
   "source": [
    "from sklearn.preprocessing import StandardScaler\n",
    "\n",
    "scaler = StandardScaler()\n",
    "x = scaler.fit_transform(x)"
   ]
  },
  {
   "cell_type": "markdown",
   "metadata": {
    "id": "zWxNEoTjMGT7"
   },
   "source": [
    "Scaled Data"
   ]
  },
  {
   "cell_type": "code",
   "execution_count": 23,
   "metadata": {
    "colab": {
     "base_uri": "https://localhost:8080/",
     "height": 422
    },
    "id": "1xS78QHAJ5zU",
    "outputId": "79871024-9013-4d1f-c8ee-82d34a33a1b5"
   },
   "outputs": [
    {
     "data": {
      "text/html": [
       "<div>\n",
       "<style scoped>\n",
       "    .dataframe tbody tr th:only-of-type {\n",
       "        vertical-align: middle;\n",
       "    }\n",
       "\n",
       "    .dataframe tbody tr th {\n",
       "        vertical-align: top;\n",
       "    }\n",
       "\n",
       "    .dataframe thead th {\n",
       "        text-align: right;\n",
       "    }\n",
       "</style>\n",
       "<table border=\"1\" class=\"dataframe\">\n",
       "  <thead>\n",
       "    <tr style=\"text-align: right;\">\n",
       "      <th></th>\n",
       "      <th>0</th>\n",
       "      <th>1</th>\n",
       "      <th>2</th>\n",
       "      <th>3</th>\n",
       "      <th>4</th>\n",
       "      <th>5</th>\n",
       "      <th>6</th>\n",
       "      <th>7</th>\n",
       "      <th>8</th>\n",
       "      <th>9</th>\n",
       "      <th>...</th>\n",
       "      <th>1290</th>\n",
       "      <th>1291</th>\n",
       "      <th>1292</th>\n",
       "      <th>1293</th>\n",
       "      <th>1294</th>\n",
       "      <th>1295</th>\n",
       "      <th>1296</th>\n",
       "      <th>1297</th>\n",
       "      <th>1298</th>\n",
       "      <th>1299</th>\n",
       "    </tr>\n",
       "  </thead>\n",
       "  <tbody>\n",
       "    <tr>\n",
       "      <th>0</th>\n",
       "      <td>0.0</td>\n",
       "      <td>-0.032876</td>\n",
       "      <td>-0.16745</td>\n",
       "      <td>-0.04465</td>\n",
       "      <td>-0.069444</td>\n",
       "      <td>0.0</td>\n",
       "      <td>0.191724</td>\n",
       "      <td>-0.094532</td>\n",
       "      <td>-0.140969</td>\n",
       "      <td>-0.17912</td>\n",
       "      <td>...</td>\n",
       "      <td>-0.113792</td>\n",
       "      <td>-0.044681</td>\n",
       "      <td>0.0</td>\n",
       "      <td>-0.193674</td>\n",
       "      <td>-0.122937</td>\n",
       "      <td>-0.039764</td>\n",
       "      <td>-0.079558</td>\n",
       "      <td>-0.143617</td>\n",
       "      <td>-0.168509</td>\n",
       "      <td>-0.149992</td>\n",
       "    </tr>\n",
       "    <tr>\n",
       "      <th>1</th>\n",
       "      <td>0.0</td>\n",
       "      <td>-0.032876</td>\n",
       "      <td>-0.16745</td>\n",
       "      <td>-0.04465</td>\n",
       "      <td>-0.069444</td>\n",
       "      <td>0.0</td>\n",
       "      <td>-0.183786</td>\n",
       "      <td>-0.094532</td>\n",
       "      <td>-0.140969</td>\n",
       "      <td>-0.17912</td>\n",
       "      <td>...</td>\n",
       "      <td>1.582751</td>\n",
       "      <td>-0.044681</td>\n",
       "      <td>0.0</td>\n",
       "      <td>-0.193674</td>\n",
       "      <td>1.375786</td>\n",
       "      <td>-0.039764</td>\n",
       "      <td>-0.079558</td>\n",
       "      <td>-0.143617</td>\n",
       "      <td>-0.168509</td>\n",
       "      <td>-0.149992</td>\n",
       "    </tr>\n",
       "    <tr>\n",
       "      <th>2</th>\n",
       "      <td>0.0</td>\n",
       "      <td>-0.032876</td>\n",
       "      <td>-0.16745</td>\n",
       "      <td>-0.04465</td>\n",
       "      <td>-0.069444</td>\n",
       "      <td>0.0</td>\n",
       "      <td>-0.183786</td>\n",
       "      <td>-0.094532</td>\n",
       "      <td>-0.140969</td>\n",
       "      <td>-0.17912</td>\n",
       "      <td>...</td>\n",
       "      <td>3.554332</td>\n",
       "      <td>-0.044681</td>\n",
       "      <td>0.0</td>\n",
       "      <td>-0.193674</td>\n",
       "      <td>0.147074</td>\n",
       "      <td>-0.039764</td>\n",
       "      <td>-0.079558</td>\n",
       "      <td>-0.143617</td>\n",
       "      <td>-0.168509</td>\n",
       "      <td>-0.149992</td>\n",
       "    </tr>\n",
       "    <tr>\n",
       "      <th>3</th>\n",
       "      <td>0.0</td>\n",
       "      <td>-0.032876</td>\n",
       "      <td>-0.16745</td>\n",
       "      <td>-0.04465</td>\n",
       "      <td>-0.069444</td>\n",
       "      <td>0.0</td>\n",
       "      <td>-0.183786</td>\n",
       "      <td>-0.094532</td>\n",
       "      <td>-0.140969</td>\n",
       "      <td>-0.17912</td>\n",
       "      <td>...</td>\n",
       "      <td>-0.113792</td>\n",
       "      <td>-0.044681</td>\n",
       "      <td>0.0</td>\n",
       "      <td>-0.193674</td>\n",
       "      <td>-0.122937</td>\n",
       "      <td>-0.039764</td>\n",
       "      <td>-0.079558</td>\n",
       "      <td>-0.143617</td>\n",
       "      <td>-0.168509</td>\n",
       "      <td>-0.149992</td>\n",
       "    </tr>\n",
       "    <tr>\n",
       "      <th>4</th>\n",
       "      <td>0.0</td>\n",
       "      <td>-0.032876</td>\n",
       "      <td>-0.16745</td>\n",
       "      <td>-0.04465</td>\n",
       "      <td>-0.069444</td>\n",
       "      <td>0.0</td>\n",
       "      <td>-0.144050</td>\n",
       "      <td>-0.094532</td>\n",
       "      <td>-0.140969</td>\n",
       "      <td>-0.17912</td>\n",
       "      <td>...</td>\n",
       "      <td>0.126207</td>\n",
       "      <td>-0.044681</td>\n",
       "      <td>0.0</td>\n",
       "      <td>-0.193674</td>\n",
       "      <td>-0.122937</td>\n",
       "      <td>-0.039764</td>\n",
       "      <td>-0.079558</td>\n",
       "      <td>-0.143617</td>\n",
       "      <td>-0.168509</td>\n",
       "      <td>-0.149992</td>\n",
       "    </tr>\n",
       "    <tr>\n",
       "      <th>...</th>\n",
       "      <td>...</td>\n",
       "      <td>...</td>\n",
       "      <td>...</td>\n",
       "      <td>...</td>\n",
       "      <td>...</td>\n",
       "      <td>...</td>\n",
       "      <td>...</td>\n",
       "      <td>...</td>\n",
       "      <td>...</td>\n",
       "      <td>...</td>\n",
       "      <td>...</td>\n",
       "      <td>...</td>\n",
       "      <td>...</td>\n",
       "      <td>...</td>\n",
       "      <td>...</td>\n",
       "      <td>...</td>\n",
       "      <td>...</td>\n",
       "      <td>...</td>\n",
       "      <td>...</td>\n",
       "      <td>...</td>\n",
       "      <td>...</td>\n",
       "    </tr>\n",
       "    <tr>\n",
       "      <th>926</th>\n",
       "      <td>0.0</td>\n",
       "      <td>-0.032876</td>\n",
       "      <td>-0.16745</td>\n",
       "      <td>-0.04465</td>\n",
       "      <td>-0.069444</td>\n",
       "      <td>0.0</td>\n",
       "      <td>-0.183786</td>\n",
       "      <td>-0.094532</td>\n",
       "      <td>-0.064759</td>\n",
       "      <td>-0.17912</td>\n",
       "      <td>...</td>\n",
       "      <td>-0.113792</td>\n",
       "      <td>-0.044681</td>\n",
       "      <td>0.0</td>\n",
       "      <td>-0.193674</td>\n",
       "      <td>-0.122937</td>\n",
       "      <td>-0.039764</td>\n",
       "      <td>-0.079558</td>\n",
       "      <td>-0.143617</td>\n",
       "      <td>-0.168509</td>\n",
       "      <td>-0.149992</td>\n",
       "    </tr>\n",
       "    <tr>\n",
       "      <th>927</th>\n",
       "      <td>0.0</td>\n",
       "      <td>-0.032876</td>\n",
       "      <td>-0.16745</td>\n",
       "      <td>-0.04465</td>\n",
       "      <td>-0.069444</td>\n",
       "      <td>0.0</td>\n",
       "      <td>-0.183786</td>\n",
       "      <td>-0.094532</td>\n",
       "      <td>-0.065282</td>\n",
       "      <td>-0.17912</td>\n",
       "      <td>...</td>\n",
       "      <td>-0.113792</td>\n",
       "      <td>-0.044681</td>\n",
       "      <td>0.0</td>\n",
       "      <td>-0.193674</td>\n",
       "      <td>-0.122937</td>\n",
       "      <td>-0.039764</td>\n",
       "      <td>-0.079558</td>\n",
       "      <td>-0.143617</td>\n",
       "      <td>-0.168509</td>\n",
       "      <td>-0.149992</td>\n",
       "    </tr>\n",
       "    <tr>\n",
       "      <th>928</th>\n",
       "      <td>0.0</td>\n",
       "      <td>-0.032876</td>\n",
       "      <td>-0.16745</td>\n",
       "      <td>-0.04465</td>\n",
       "      <td>-0.069444</td>\n",
       "      <td>0.0</td>\n",
       "      <td>-0.183786</td>\n",
       "      <td>-0.094532</td>\n",
       "      <td>-0.097500</td>\n",
       "      <td>-0.17912</td>\n",
       "      <td>...</td>\n",
       "      <td>-0.113792</td>\n",
       "      <td>-0.044681</td>\n",
       "      <td>0.0</td>\n",
       "      <td>-0.193674</td>\n",
       "      <td>-0.122937</td>\n",
       "      <td>-0.039764</td>\n",
       "      <td>-0.079558</td>\n",
       "      <td>-0.143617</td>\n",
       "      <td>-0.168509</td>\n",
       "      <td>-0.149992</td>\n",
       "    </tr>\n",
       "    <tr>\n",
       "      <th>929</th>\n",
       "      <td>0.0</td>\n",
       "      <td>-0.032876</td>\n",
       "      <td>-0.16745</td>\n",
       "      <td>-0.04465</td>\n",
       "      <td>-0.069444</td>\n",
       "      <td>0.0</td>\n",
       "      <td>-0.183786</td>\n",
       "      <td>-0.094532</td>\n",
       "      <td>0.060052</td>\n",
       "      <td>-0.17912</td>\n",
       "      <td>...</td>\n",
       "      <td>-0.113792</td>\n",
       "      <td>-0.044681</td>\n",
       "      <td>0.0</td>\n",
       "      <td>-0.193674</td>\n",
       "      <td>-0.122937</td>\n",
       "      <td>-0.039764</td>\n",
       "      <td>-0.079558</td>\n",
       "      <td>-0.143617</td>\n",
       "      <td>-0.168509</td>\n",
       "      <td>-0.149992</td>\n",
       "    </tr>\n",
       "    <tr>\n",
       "      <th>930</th>\n",
       "      <td>0.0</td>\n",
       "      <td>-0.032876</td>\n",
       "      <td>-0.16745</td>\n",
       "      <td>-0.04465</td>\n",
       "      <td>-0.069444</td>\n",
       "      <td>0.0</td>\n",
       "      <td>-0.183786</td>\n",
       "      <td>-0.094532</td>\n",
       "      <td>-0.012626</td>\n",
       "      <td>-0.17912</td>\n",
       "      <td>...</td>\n",
       "      <td>-0.113792</td>\n",
       "      <td>-0.044681</td>\n",
       "      <td>0.0</td>\n",
       "      <td>-0.193674</td>\n",
       "      <td>-0.122937</td>\n",
       "      <td>-0.039764</td>\n",
       "      <td>-0.079558</td>\n",
       "      <td>-0.143617</td>\n",
       "      <td>-0.168509</td>\n",
       "      <td>-0.149992</td>\n",
       "    </tr>\n",
       "  </tbody>\n",
       "</table>\n",
       "<p>931 rows × 1300 columns</p>\n",
       "</div>"
      ],
      "text/plain": [
       "     0         1        2        3         4     5         6         7     \\\n",
       "0     0.0 -0.032876 -0.16745 -0.04465 -0.069444   0.0  0.191724 -0.094532   \n",
       "1     0.0 -0.032876 -0.16745 -0.04465 -0.069444   0.0 -0.183786 -0.094532   \n",
       "2     0.0 -0.032876 -0.16745 -0.04465 -0.069444   0.0 -0.183786 -0.094532   \n",
       "3     0.0 -0.032876 -0.16745 -0.04465 -0.069444   0.0 -0.183786 -0.094532   \n",
       "4     0.0 -0.032876 -0.16745 -0.04465 -0.069444   0.0 -0.144050 -0.094532   \n",
       "..    ...       ...      ...      ...       ...   ...       ...       ...   \n",
       "926   0.0 -0.032876 -0.16745 -0.04465 -0.069444   0.0 -0.183786 -0.094532   \n",
       "927   0.0 -0.032876 -0.16745 -0.04465 -0.069444   0.0 -0.183786 -0.094532   \n",
       "928   0.0 -0.032876 -0.16745 -0.04465 -0.069444   0.0 -0.183786 -0.094532   \n",
       "929   0.0 -0.032876 -0.16745 -0.04465 -0.069444   0.0 -0.183786 -0.094532   \n",
       "930   0.0 -0.032876 -0.16745 -0.04465 -0.069444   0.0 -0.183786 -0.094532   \n",
       "\n",
       "         8        9     ...      1290      1291  1292      1293      1294  \\\n",
       "0   -0.140969 -0.17912  ... -0.113792 -0.044681   0.0 -0.193674 -0.122937   \n",
       "1   -0.140969 -0.17912  ...  1.582751 -0.044681   0.0 -0.193674  1.375786   \n",
       "2   -0.140969 -0.17912  ...  3.554332 -0.044681   0.0 -0.193674  0.147074   \n",
       "3   -0.140969 -0.17912  ... -0.113792 -0.044681   0.0 -0.193674 -0.122937   \n",
       "4   -0.140969 -0.17912  ...  0.126207 -0.044681   0.0 -0.193674 -0.122937   \n",
       "..        ...      ...  ...       ...       ...   ...       ...       ...   \n",
       "926 -0.064759 -0.17912  ... -0.113792 -0.044681   0.0 -0.193674 -0.122937   \n",
       "927 -0.065282 -0.17912  ... -0.113792 -0.044681   0.0 -0.193674 -0.122937   \n",
       "928 -0.097500 -0.17912  ... -0.113792 -0.044681   0.0 -0.193674 -0.122937   \n",
       "929  0.060052 -0.17912  ... -0.113792 -0.044681   0.0 -0.193674 -0.122937   \n",
       "930 -0.012626 -0.17912  ... -0.113792 -0.044681   0.0 -0.193674 -0.122937   \n",
       "\n",
       "         1295      1296      1297      1298      1299  \n",
       "0   -0.039764 -0.079558 -0.143617 -0.168509 -0.149992  \n",
       "1   -0.039764 -0.079558 -0.143617 -0.168509 -0.149992  \n",
       "2   -0.039764 -0.079558 -0.143617 -0.168509 -0.149992  \n",
       "3   -0.039764 -0.079558 -0.143617 -0.168509 -0.149992  \n",
       "4   -0.039764 -0.079558 -0.143617 -0.168509 -0.149992  \n",
       "..        ...       ...       ...       ...       ...  \n",
       "926 -0.039764 -0.079558 -0.143617 -0.168509 -0.149992  \n",
       "927 -0.039764 -0.079558 -0.143617 -0.168509 -0.149992  \n",
       "928 -0.039764 -0.079558 -0.143617 -0.168509 -0.149992  \n",
       "929 -0.039764 -0.079558 -0.143617 -0.168509 -0.149992  \n",
       "930 -0.039764 -0.079558 -0.143617 -0.168509 -0.149992  \n",
       "\n",
       "[931 rows x 1300 columns]"
      ]
     },
     "execution_count": 23,
     "metadata": {},
     "output_type": "execute_result"
    }
   ],
   "source": [
    "pd.DataFrame(x)"
   ]
  },
  {
   "cell_type": "markdown",
   "metadata": {
    "id": "cCARAGilCRWz"
   },
   "source": [
    "### VII. Splitting Into Train and Test Data"
   ]
  },
  {
   "cell_type": "markdown",
   "metadata": {
    "id": "aItxntl5Mht3"
   },
   "source": [
    "We have x and y data. Now, we should split them into train and test data separately. We also give a constant random state to prevent different experimental results depending on random effects."
   ]
  },
  {
   "cell_type": "code",
   "execution_count": 24,
   "metadata": {
    "id": "FbKwa2NAROhA"
   },
   "outputs": [],
   "source": [
    "from sklearn.model_selection import train_test_split\n",
    "\n",
    "x_train, x_test, y_train, y_test = train_test_split(x, y, test_size=0.3, random_state=42)\n",
    "\n",
    "y_train = y_train.values.ravel() # DataFrame.values.ravel() -> converts DataFrame column to 1D array\n",
    "y_test = y_test.values.ravel()"
   ]
  },
  {
   "cell_type": "markdown",
   "metadata": {
    "id": "ex7C3QDyKhcE"
   },
   "source": [
    "### VIII. Principle Component Analysis"
   ]
  },
  {
   "cell_type": "markdown",
   "metadata": {
    "id": "43veqC4yNfd0"
   },
   "source": [
    "Our data has huge number of features (1300) and not all of these features are related with class labels. In this case, we should decrease number of features by cleaning unrelated features to suppress the impact of these features on decisions of our algorithms. "
   ]
  },
  {
   "cell_type": "markdown",
   "metadata": {
    "id": "lJXXhvAFPsMQ"
   },
   "source": [
    "First, we will give the maximum possible n_components and plot the cumulative sum of explained_variance_ratio in PCA. We are going to choose the n_components when other features have almost 0 effect on decision making."
   ]
  },
  {
   "cell_type": "code",
   "execution_count": 25,
   "metadata": {
    "colab": {
     "base_uri": "https://localhost:8080/",
     "height": 296
    },
    "id": "_OdmiGBCKnWc",
    "outputId": "9dd5b7d4-0efa-4e7b-fc75-956dcb26891f"
   },
   "outputs": [
    {
     "data": {
      "text/plain": [
       "Text(0, 0.5, 'Cumulative Sum')"
      ]
     },
     "execution_count": 25,
     "metadata": {},
     "output_type": "execute_result"
    },
    {
     "data": {
      "image/png": "[encoded data removed]",
      "text/plain": [
       "<Figure size 432x288 with 1 Axes>"
      ]
     },
     "metadata": {
      "needs_background": "light"
     },
     "output_type": "display_data"
    }
   ],
   "source": [
    "from sklearn.decomposition import PCA\n",
    "from matplotlib import pyplot as plt\n",
    "\n",
    "pca_to_plot = PCA(n_components=651 ,random_state=42)\n",
    "pca_to_plot.fit(x_train)\n",
    "\n",
    "plt.plot(np.cumsum(pca_to_plot.explained_variance_ratio_))\n",
    "plt.xlabel(\"Number of Components\")\n",
    "plt.ylabel(\"Cumulative Sum\")"
   ]
  },
  {
   "cell_type": "markdown",
   "metadata": {
    "id": "T5Ny7Z9lQKxB"
   },
   "source": [
    "In this plot, 300 is a good choice for n_components, because we see that the components after 300th one, almost have no effect on decision making. First 300 is enough to make decision about the data."
   ]
  },
  {
   "cell_type": "code",
   "execution_count": 26,
   "metadata": {
    "id": "sBEzK4Y2OyMb"
   },
   "outputs": [],
   "source": [
    "pca = PCA(n_components=300 ,random_state=0)\n",
    "x_train = pca.fit_transform(x_train)\n",
    "x_test = pca.transform(x_test)"
   ]
  },
  {
   "cell_type": "code",
   "execution_count": 27,
   "metadata": {
    "colab": {
     "base_uri": "https://localhost:8080/"
    },
    "id": "msI1nWyWR18x",
    "outputId": "cfd2a1d0-3bee-487c-d790-e0c1a7e9afc3"
   },
   "outputs": [
    {
     "data": {
      "text/plain": [
       "(651, 300)"
      ]
     },
     "execution_count": 27,
     "metadata": {},
     "output_type": "execute_result"
    }
   ],
   "source": [
    " x_train.shape"
   ]
  },
  {
   "cell_type": "markdown",
   "metadata": {
    "id": "DqRpusy8tEkw"
   },
   "source": [
    "# 2. Classification"
   ]
  },
  {
   "cell_type": "markdown",
   "metadata": {
    "id": "VOKJ0mB8HSyR"
   },
   "source": [
    "We will do classification with support vector machine, random forest and logistic regression algorithms and compare their performances with f1 and accuracy metrics."
   ]
  },
  {
   "cell_type": "markdown",
   "metadata": {
    "id": "jubIFJi331g8"
   },
   "source": [
    "## a. Support Vector Machine"
   ]
  },
  {
   "cell_type": "code",
   "execution_count": 28,
   "metadata": {
    "id": "o9uNwibG0QjM"
   },
   "outputs": [],
   "source": [
    "import seaborn as sn\n",
    "from sklearn.svm import SVC\n",
    "from sklearn.metrics import f1_score, accuracy_score, confusion_matrix\n",
    "\n",
    "svc = SVC(kernel='linear')\n",
    "svc.fit(x_train, y_train)\n",
    "svc_pred = svc.predict(x_test)"
   ]
  },
  {
   "cell_type": "markdown",
   "metadata": {
    "id": "oQY9N7PjzBk8"
   },
   "source": [
    "Class Confusion Matrix of Support Vector Machine Classification"
   ]
  },
  {
   "cell_type": "code",
   "execution_count": 29,
   "metadata": {
    "colab": {
     "base_uri": "https://localhost:8080/",
     "height": 504
    },
    "id": "NCoo2k8EzGIy",
    "outputId": "bbcb5242-2e1d-45c7-a600-d61b02fb290f"
   },
   "outputs": [
    {
     "data": {
      "text/plain": [
       "<AxesSubplot:>"
      ]
     },
     "execution_count": 29,
     "metadata": {},
     "output_type": "execute_result"
    },
    {
     "data": {
      "image/png": "[encoded data removed]",
      "text/plain": [
       "<Figure size 864x576 with 2 Axes>"
      ]
     },
     "metadata": {
      "needs_background": "light"
     },
     "output_type": "display_data"
    }
   ],
   "source": [
    "svc_cm = confusion_matrix(y_test, svc_pred)\n",
    "plt.figure(figsize=(12,8))\n",
    "sn.heatmap(svc_cm, annot=True)"
   ]
  },
  {
   "cell_type": "markdown",
   "metadata": {
    "id": "DJZJFu-8JMQP"
   },
   "source": [
    "F1 Score of Support Vector Machine Classification"
   ]
  },
  {
   "cell_type": "code",
   "execution_count": 30,
   "metadata": {
    "colab": {
     "base_uri": "https://localhost:8080/"
    },
    "id": "ujQY2_GmH1Pp",
    "outputId": "7f80935d-3539-4288-c0b9-9b1be2294b25"
   },
   "outputs": [
    {
     "data": {
      "text/plain": [
       "0.8316065760461637"
      ]
     },
     "execution_count": 30,
     "metadata": {},
     "output_type": "execute_result"
    }
   ],
   "source": [
    "f1_score(y_test, svc_pred, average='weighted')"
   ]
  },
  {
   "cell_type": "markdown",
   "metadata": {
    "id": "2mg8gVMyJPk7"
   },
   "source": [
    "Accuracy Score of Support Vector Machine Classification"
   ]
  },
  {
   "cell_type": "code",
   "execution_count": 31,
   "metadata": {
    "colab": {
     "base_uri": "https://localhost:8080/"
    },
    "id": "-xgQW2z3Iypw",
    "outputId": "c7e488d7-f1f6-4ca5-a298-07b65f1d8979"
   },
   "outputs": [
    {
     "data": {
      "text/plain": [
       "0.825"
      ]
     },
     "execution_count": 31,
     "metadata": {},
     "output_type": "execute_result"
    }
   ],
   "source": [
    "accuracy_score(y_test, svc_pred)"
   ]
  },
  {
   "cell_type": "markdown",
   "metadata": {
    "id": "d7ThzczW4D6D"
   },
   "source": [
    "## b. Random Forest"
   ]
  },
  {
   "cell_type": "code",
   "execution_count": 32,
   "metadata": {
    "id": "cYcHe4PstLVV"
   },
   "outputs": [],
   "source": [
    "from sklearn.ensemble import RandomForestClassifier\n",
    "\n",
    "rfc = RandomForestClassifier(n_estimators=250, max_depth=8, criterion='entropy', random_state=42)\n",
    "rfc.fit(x_train, y_train)\n",
    "rfc_pred = rfc.predict(x_test)"
   ]
  },
  {
   "cell_type": "markdown",
   "metadata": {
    "id": "Z-R2hrCJ0nfY"
   },
   "source": [
    "Class Confusion Matrix of Random Forest Classification"
   ]
  },
  {
   "cell_type": "code",
   "execution_count": 33,
   "metadata": {
    "colab": {
     "base_uri": "https://localhost:8080/",
     "height": 500
    },
    "id": "KQ_3k7hd0n4_",
    "outputId": "2c06ea56-25a5-4cb6-ace6-ddd1a319286d"
   },
   "outputs": [
    {
     "data": {
      "text/plain": [
       "<AxesSubplot:>"
      ]
     },
     "execution_count": 33,
     "metadata": {},
     "output_type": "execute_result"
    },
    {
     "data": {
      "image/png": "[encoded data removed]",
      "text/plain": [
       "<Figure size 864x576 with 2 Axes>"
      ]
     },
     "metadata": {
      "needs_background": "light"
     },
     "output_type": "display_data"
    }
   ],
   "source": [
    "rfc_cm = confusion_matrix(y_test, rfc_pred)\n",
    "plt.figure(figsize=(12,8))\n",
    "sn.heatmap(rfc_cm, annot=True)"
   ]
  },
  {
   "cell_type": "markdown",
   "metadata": {
    "id": "TJzbcoKUJTeq"
   },
   "source": [
    "F1 Score of Support Random Forest Classification"
   ]
  },
  {
   "cell_type": "code",
   "execution_count": 34,
   "metadata": {
    "colab": {
     "base_uri": "https://localhost:8080/"
    },
    "id": "KwHX0FI-H2ww",
    "outputId": "4833677f-e410-4ee8-b4ea-72dfc67172c7"
   },
   "outputs": [
    {
     "data": {
      "text/plain": [
       "0.8405500438428346"
      ]
     },
     "execution_count": 34,
     "metadata": {},
     "output_type": "execute_result"
    }
   ],
   "source": [
    "f1_score(y_test, rfc_pred, average='weighted')"
   ]
  },
  {
   "cell_type": "markdown",
   "metadata": {
    "id": "f_wtt8bCJWLB"
   },
   "source": [
    "Accuracy Score of Random Forest Classification"
   ]
  },
  {
   "cell_type": "code",
   "execution_count": 35,
   "metadata": {
    "colab": {
     "base_uri": "https://localhost:8080/"
    },
    "id": "g4FmMcPEI81-",
    "outputId": "b7b70f38-d878-4bae-f72d-c6ee443b7f8b"
   },
   "outputs": [
    {
     "data": {
      "text/plain": [
       "0.85"
      ]
     },
     "execution_count": 35,
     "metadata": {},
     "output_type": "execute_result"
    }
   ],
   "source": [
    "accuracy_score(y_test, rfc_pred)"
   ]
  },
  {
   "cell_type": "markdown",
   "metadata": {
    "id": "bP3Jv66V4Ba4"
   },
   "source": [
    "## c. Logicstic Regression"
   ]
  },
  {
   "cell_type": "code",
   "execution_count": 36,
   "metadata": {
    "id": "qcPdJxTYamJh"
   },
   "outputs": [],
   "source": [
    "from sklearn.linear_model import LogisticRegression\n",
    "\n",
    "lrc = LogisticRegression(max_iter=500)\n",
    "lrc.fit(x_train, y_train)\n",
    "lrc_pred = lrc.predict(x_test)"
   ]
  },
  {
   "cell_type": "markdown",
   "metadata": {
    "id": "Nw0ENGeQ0uQz"
   },
   "source": [
    "Class Confusion Matrix of Logistic Regression Classification"
   ]
  },
  {
   "cell_type": "code",
   "execution_count": 37,
   "metadata": {
    "colab": {
     "base_uri": "https://localhost:8080/",
     "height": 504
    },
    "id": "ZIIWJWFx0wYN",
    "outputId": "0037e0a1-dc0f-4194-835f-0ac7097f8efc"
   },
   "outputs": [
    {
     "data": {
      "text/plain": [
       "<AxesSubplot:>"
      ]
     },
     "execution_count": 37,
     "metadata": {},
     "output_type": "execute_result"
    },
    {
     "data": {
      "image/png": "[encoded data removed]",
      "text/plain": [
       "<Figure size 864x576 with 2 Axes>"
      ]
     },
     "metadata": {
      "needs_background": "light"
     },
     "output_type": "display_data"
    }
   ],
   "source": [
    "lrc_cm = confusion_matrix(y_test, svc_pred)\n",
    "plt.figure(figsize=(12,8))\n",
    "sn.heatmap(lrc_cm, annot=True)"
   ]
  },
  {
   "cell_type": "markdown",
   "metadata": {
    "id": "b7QYjPkjJZRR"
   },
   "source": [
    "F1 Score of Support Logistic Regression Classification"
   ]
  },
  {
   "cell_type": "code",
   "execution_count": 38,
   "metadata": {
    "colab": {
     "base_uri": "https://localhost:8080/"
    },
    "id": "BUYz8CdaH5_G",
    "outputId": "9153b07e-2311-4dd3-a6e4-8c83195ff558"
   },
   "outputs": [
    {
     "data": {
      "text/plain": [
       "0.8896791247442788"
      ]
     },
     "execution_count": 38,
     "metadata": {},
     "output_type": "execute_result"
    }
   ],
   "source": [
    "f1_score(y_test, lrc_pred, average='weighted')"
   ]
  },
  {
   "cell_type": "markdown",
   "metadata": {
    "id": "ncQcPS7uJiwe"
   },
   "source": [
    "Accuracy Score of Support Logistic Regression Classification"
   ]
  },
  {
   "cell_type": "code",
   "execution_count": 39,
   "metadata": {
    "colab": {
     "base_uri": "https://localhost:8080/"
    },
    "id": "LQQaCn6FI_Qj",
    "outputId": "cb3d3a53-a646-45a8-c65f-ba2b3cd15f36"
   },
   "outputs": [
    {
     "data": {
      "text/plain": [
       "0.8892857142857142"
      ]
     },
     "execution_count": 39,
     "metadata": {},
     "output_type": "execute_result"
    }
   ],
   "source": [
    "accuracy_score(y_test, lrc_pred)"
   ]
  },
  {
   "cell_type": "markdown",
   "metadata": {
    "id": "9kl-QN68JuF6"
   },
   "source": [
    "## d. Summary"
   ]
  },
  {
   "cell_type": "markdown",
   "metadata": {
    "id": "hs-HcUmjJwU-"
   },
   "source": [
    "Support Vector Machine:\n",
    "* 0.831 F1  \n",
    "* 0.825 Accuracy\n",
    "\n",
    "Random Forest:\n",
    "* 0.840 F1\n",
    "* 0.850 Accuracy\n",
    "\n",
    "Logistic Regression:\n",
    "* 0.889 F1\n",
    "* 0.889 Accuracy\n",
    "\n",
    "\n",
    "Comparison of Success:\n",
    "\n",
    "Logistic Regression > Random Forest > Support Vector Machine\n",
    "\n",
    "We can definetely say that logistic regression is the best classifier in this case, considering the confusion matrices, f1 scores and accuracy measures of these algorithms.\n"
   ]
  },
  {
   "cell_type": "markdown",
   "metadata": {
    "id": "cjqy2bd6CeOy"
   },
   "source": [
    "# 3. Clustering"
   ]
  },
  {
   "cell_type": "markdown",
   "metadata": {
    "id": "9FwAWWNkH_yL"
   },
   "source": [
    "We will do clustering with k-means, agglomerative and spectral clustering algorithms and compare their performances with completeness score metric. \n",
    "\n",
    "The reason behind choosing completeness score is that we have 30 class labels, so assigning a class label for each cluster and measuring their performances with true class label and label of predicted cluster is not understandable and not an effective way. \n",
    "\n",
    "Completeness Score Description:\n",
    "\n",
    "\"A clustering result satisfies completeness if all the data points that are members of a given class are elements of the same cluster. This metric is independent of the absolute values of the labels: a permutation of the class or cluster label values won’t change the score value in any way.\"\n",
    "\n",
    "Source: [sklearn.metrics.completeness_score](https://scikit-learn.org/stable/modules/generated/sklearn.metrics.completeness_score.html)\n"
   ]
  },
  {
   "cell_type": "markdown",
   "metadata": {
    "id": "VMf-BPqbOV1s"
   },
   "source": [
    "We have splitted our data into train and test data with shuffling it before, then we have applied PCA to train and test data separately. We need all train and test data together for clustering. So we replace x and y by concatenation of their test and train splits to bring them together."
   ]
  },
  {
   "cell_type": "code",
   "execution_count": 40,
   "metadata": {
    "id": "0bw4MObpc9oz"
   },
   "outputs": [],
   "source": [
    "x = np.concatenate([x_train, x_test])\n",
    "y = np.concatenate([y_train, y_test])"
   ]
  },
  {
   "cell_type": "markdown",
   "metadata": {
    "id": "WNkqITCZCsPg"
   },
   "source": [
    "## a. K-Means Clustering"
   ]
  },
  {
   "cell_type": "code",
   "execution_count": 41,
   "metadata": {
    "id": "pLmssAuTpa94"
   },
   "outputs": [],
   "source": [
    "from sklearn.cluster import KMeans\n",
    "from sklearn.metrics import completeness_score\n",
    "\n",
    "kmeans = KMeans(n_clusters=30, random_state=42, n_init=30)\n",
    "kmeans_pred = kmeans.fit_predict(x)"
   ]
  },
  {
   "cell_type": "markdown",
   "metadata": {
    "id": "Lxd_VV-qPnt5"
   },
   "source": [
    "Clusters Created by K-Means and Actual Class Labels"
   ]
  },
  {
   "cell_type": "code",
   "execution_count": 42,
   "metadata": {
    "id": "SGl194-42vfM"
   },
   "outputs": [],
   "source": [
    "pd.set_option('display.max_rows', 10) # Pass None as second parameter to view all rows of dataframes"
   ]
  },
  {
   "cell_type": "code",
   "execution_count": 43,
   "metadata": {
    "colab": {
     "base_uri": "https://localhost:8080/",
     "height": 402
    },
    "id": "q8XvZgySzwBG",
    "outputId": "1f0b2b07-b58d-4001-e68d-5ce740ef8402"
   },
   "outputs": [
    {
     "data": {
      "text/html": [
       "<div>\n",
       "<style scoped>\n",
       "    .dataframe tbody tr th:only-of-type {\n",
       "        vertical-align: middle;\n",
       "    }\n",
       "\n",
       "    .dataframe tbody tr th {\n",
       "        vertical-align: top;\n",
       "    }\n",
       "\n",
       "    .dataframe thead th {\n",
       "        text-align: right;\n",
       "    }\n",
       "</style>\n",
       "<table border=\"1\" class=\"dataframe\">\n",
       "  <thead>\n",
       "    <tr style=\"text-align: right;\">\n",
       "      <th></th>\n",
       "      <th>Predicted_Cluster</th>\n",
       "      <th>True_Class_Label</th>\n",
       "    </tr>\n",
       "  </thead>\n",
       "  <tbody>\n",
       "    <tr>\n",
       "      <th>0</th>\n",
       "      <td>26</td>\n",
       "      <td>BUT.TRH</td>\n",
       "    </tr>\n",
       "    <tr>\n",
       "      <th>1</th>\n",
       "      <td>2</td>\n",
       "      <td>JNH.ZIJ</td>\n",
       "    </tr>\n",
       "    <tr>\n",
       "      <th>2</th>\n",
       "      <td>9</td>\n",
       "      <td>QWP.DRH BUT.YZE</td>\n",
       "    </tr>\n",
       "    <tr>\n",
       "      <th>3</th>\n",
       "      <td>9</td>\n",
       "      <td>NYV.XSY NYV.VCE</td>\n",
       "    </tr>\n",
       "    <tr>\n",
       "      <th>4</th>\n",
       "      <td>9</td>\n",
       "      <td>NYV.XSY</td>\n",
       "    </tr>\n",
       "    <tr>\n",
       "      <th>...</th>\n",
       "      <td>...</td>\n",
       "      <td>...</td>\n",
       "    </tr>\n",
       "    <tr>\n",
       "      <th>926</th>\n",
       "      <td>9</td>\n",
       "      <td>NYV.XSY NYV.VCE</td>\n",
       "    </tr>\n",
       "    <tr>\n",
       "      <th>927</th>\n",
       "      <td>14</td>\n",
       "      <td>RTO.JFR</td>\n",
       "    </tr>\n",
       "    <tr>\n",
       "      <th>928</th>\n",
       "      <td>9</td>\n",
       "      <td>VVJ.KSF</td>\n",
       "    </tr>\n",
       "    <tr>\n",
       "      <th>929</th>\n",
       "      <td>5</td>\n",
       "      <td>AUG.AEX</td>\n",
       "    </tr>\n",
       "    <tr>\n",
       "      <th>930</th>\n",
       "      <td>9</td>\n",
       "      <td>RTO.TQH</td>\n",
       "    </tr>\n",
       "  </tbody>\n",
       "</table>\n",
       "<p>931 rows × 2 columns</p>\n",
       "</div>"
      ],
      "text/plain": [
       "     Predicted_Cluster True_Class_Label\n",
       "0                   26          BUT.TRH\n",
       "1                    2          JNH.ZIJ\n",
       "2                    9  QWP.DRH BUT.YZE\n",
       "3                    9  NYV.XSY NYV.VCE\n",
       "4                    9          NYV.XSY\n",
       "..                 ...              ...\n",
       "926                  9  NYV.XSY NYV.VCE\n",
       "927                 14          RTO.JFR\n",
       "928                  9          VVJ.KSF\n",
       "929                  5          AUG.AEX\n",
       "930                  9          RTO.TQH\n",
       "\n",
       "[931 rows x 2 columns]"
      ]
     },
     "execution_count": 43,
     "metadata": {},
     "output_type": "execute_result"
    }
   ],
   "source": [
    "pd.concat([pd.DataFrame(kmeans_pred, columns=['Predicted_Cluster']), pd.DataFrame(y, columns=['True_Class_Label'])] ,axis=1)"
   ]
  },
  {
   "cell_type": "markdown",
   "metadata": {
    "id": "WH1B446LQNYW"
   },
   "source": [
    "Distribution of Clusters Created by K-Means"
   ]
  },
  {
   "cell_type": "code",
   "execution_count": 44,
   "metadata": {
    "colab": {
     "base_uri": "https://localhost:8080/",
     "height": 297
    },
    "id": "DGkKkgyKQaDm",
    "outputId": "20d5b4b7-1030-49ca-9da7-d8e213af8459"
   },
   "outputs": [
    {
     "data": {
      "text/plain": [
       "Text(0, 0.5, 'Class Labels')"
      ]
     },
     "execution_count": 44,
     "metadata": {},
     "output_type": "execute_result"
    },
    {
     "data": {
      "image/png": "[encoded data removed]",
      "text/plain": [
       "<Figure size 432x288 with 1 Axes>"
      ]
     },
     "metadata": {
      "needs_background": "light"
     },
     "output_type": "display_data"
    }
   ],
   "source": [
    "plt.plot(np.sort(kmeans_pred))\n",
    "plt.xlabel('Samples')\n",
    "plt.ylabel('Class Labels')"
   ]
  },
  {
   "cell_type": "markdown",
   "metadata": {
    "id": "ef2XnqOtRBBa"
   },
   "source": [
    "Distribution of Actual Data"
   ]
  },
  {
   "cell_type": "code",
   "execution_count": 45,
   "metadata": {
    "colab": {
     "base_uri": "https://localhost:8080/",
     "height": 296
    },
    "id": "QL6Av2iyQ-oz",
    "outputId": "bc401aa0-5645-4e18-f035-fdfb5cd6981c"
   },
   "outputs": [
    {
     "data": {
      "text/plain": [
       "Text(0, 0.5, 'Class Labels')"
      ]
     },
     "execution_count": 45,
     "metadata": {},
     "output_type": "execute_result"
    },
    {
     "data": {
      "image/png": "[encoded data removed]",
      "text/plain": [
       "<Figure size 432x288 with 1 Axes>"
      ]
     },
     "metadata": {
      "needs_background": "light"
     },
     "output_type": "display_data"
    }
   ],
   "source": [
    "plt.plot(np.sort(y))\n",
    "plt.xlabel('Samples')\n",
    "plt.ylabel('Class Labels')"
   ]
  },
  {
   "cell_type": "markdown",
   "metadata": {
    "id": "iynKY4ldPX2L"
   },
   "source": [
    "Completeness Score of K-Means Clustering"
   ]
  },
  {
   "cell_type": "code",
   "execution_count": 46,
   "metadata": {
    "colab": {
     "base_uri": "https://localhost:8080/"
    },
    "id": "NCxjLWPGhIs2",
    "outputId": "cc3f7dc2-7e1e-416d-e97f-16e1cd00cd23"
   },
   "outputs": [
    {
     "data": {
      "text/plain": [
       "0.6454488445290695"
      ]
     },
     "execution_count": 46,
     "metadata": {},
     "output_type": "execute_result"
    }
   ],
   "source": [
    "completeness_score(y, kmeans_pred)"
   ]
  },
  {
   "cell_type": "markdown",
   "metadata": {
    "id": "-LVVRtI_C0S2"
   },
   "source": [
    "## b. Agglomerative Clustering"
   ]
  },
  {
   "cell_type": "code",
   "execution_count": 47,
   "metadata": {
    "id": "VYxDi_7IsypG"
   },
   "outputs": [],
   "source": [
    "from sklearn.cluster import AgglomerativeClustering\n",
    "\n",
    "ac = AgglomerativeClustering(n_clusters=30, affinity='cosine', linkage='complete')\n",
    "ac_pred = ac.fit_predict(x)"
   ]
  },
  {
   "cell_type": "markdown",
   "metadata": {
    "id": "Y-1Nx7AcRw9h"
   },
   "source": [
    "Clusters Created by Agglomerative Clustering and Actual Class Labels"
   ]
  },
  {
   "cell_type": "code",
   "execution_count": 48,
   "metadata": {
    "colab": {
     "base_uri": "https://localhost:8080/",
     "height": 402
    },
    "id": "R3UOOOmxRxt_",
    "outputId": "559b4f07-9bdf-4c9d-c669-f6778f844060"
   },
   "outputs": [
    {
     "data": {
      "text/html": [
       "<div>\n",
       "<style scoped>\n",
       "    .dataframe tbody tr th:only-of-type {\n",
       "        vertical-align: middle;\n",
       "    }\n",
       "\n",
       "    .dataframe tbody tr th {\n",
       "        vertical-align: top;\n",
       "    }\n",
       "\n",
       "    .dataframe thead th {\n",
       "        text-align: right;\n",
       "    }\n",
       "</style>\n",
       "<table border=\"1\" class=\"dataframe\">\n",
       "  <thead>\n",
       "    <tr style=\"text-align: right;\">\n",
       "      <th></th>\n",
       "      <th>Predicted_Cluster</th>\n",
       "      <th>True_Class_Label</th>\n",
       "    </tr>\n",
       "  </thead>\n",
       "  <tbody>\n",
       "    <tr>\n",
       "      <th>0</th>\n",
       "      <td>20</td>\n",
       "      <td>BUT.TRH</td>\n",
       "    </tr>\n",
       "    <tr>\n",
       "      <th>1</th>\n",
       "      <td>1</td>\n",
       "      <td>JNH.ZIJ</td>\n",
       "    </tr>\n",
       "    <tr>\n",
       "      <th>2</th>\n",
       "      <td>17</td>\n",
       "      <td>QWP.DRH BUT.YZE</td>\n",
       "    </tr>\n",
       "    <tr>\n",
       "      <th>3</th>\n",
       "      <td>6</td>\n",
       "      <td>NYV.XSY NYV.VCE</td>\n",
       "    </tr>\n",
       "    <tr>\n",
       "      <th>4</th>\n",
       "      <td>17</td>\n",
       "      <td>NYV.XSY</td>\n",
       "    </tr>\n",
       "    <tr>\n",
       "      <th>...</th>\n",
       "      <td>...</td>\n",
       "      <td>...</td>\n",
       "    </tr>\n",
       "    <tr>\n",
       "      <th>926</th>\n",
       "      <td>6</td>\n",
       "      <td>NYV.XSY NYV.VCE</td>\n",
       "    </tr>\n",
       "    <tr>\n",
       "      <th>927</th>\n",
       "      <td>7</td>\n",
       "      <td>RTO.JFR</td>\n",
       "    </tr>\n",
       "    <tr>\n",
       "      <th>928</th>\n",
       "      <td>16</td>\n",
       "      <td>VVJ.KSF</td>\n",
       "    </tr>\n",
       "    <tr>\n",
       "      <th>929</th>\n",
       "      <td>5</td>\n",
       "      <td>AUG.AEX</td>\n",
       "    </tr>\n",
       "    <tr>\n",
       "      <th>930</th>\n",
       "      <td>7</td>\n",
       "      <td>RTO.TQH</td>\n",
       "    </tr>\n",
       "  </tbody>\n",
       "</table>\n",
       "<p>931 rows × 2 columns</p>\n",
       "</div>"
      ],
      "text/plain": [
       "     Predicted_Cluster True_Class_Label\n",
       "0                   20          BUT.TRH\n",
       "1                    1          JNH.ZIJ\n",
       "2                   17  QWP.DRH BUT.YZE\n",
       "3                    6  NYV.XSY NYV.VCE\n",
       "4                   17          NYV.XSY\n",
       "..                 ...              ...\n",
       "926                  6  NYV.XSY NYV.VCE\n",
       "927                  7          RTO.JFR\n",
       "928                 16          VVJ.KSF\n",
       "929                  5          AUG.AEX\n",
       "930                  7          RTO.TQH\n",
       "\n",
       "[931 rows x 2 columns]"
      ]
     },
     "execution_count": 48,
     "metadata": {},
     "output_type": "execute_result"
    }
   ],
   "source": [
    "pd.concat([pd.DataFrame(ac_pred, columns=['Predicted_Cluster']), pd.DataFrame(y, columns=['True_Class_Label'])] ,axis=1)"
   ]
  },
  {
   "cell_type": "markdown",
   "metadata": {
    "id": "8mCWL6lCRakJ"
   },
   "source": [
    "Distribution of Clusters Created by Agglomerative Clustering"
   ]
  },
  {
   "cell_type": "code",
   "execution_count": 49,
   "metadata": {
    "colab": {
     "base_uri": "https://localhost:8080/",
     "height": 297
    },
    "id": "LQNV2bHhRZgW",
    "outputId": "de47b192-84c7-4e2a-b8b8-1f15df8911b4"
   },
   "outputs": [
    {
     "data": {
      "text/plain": [
       "Text(0, 0.5, 'Class Labels')"
      ]
     },
     "execution_count": 49,
     "metadata": {},
     "output_type": "execute_result"
    },
    {
     "data": {
      "image/png": "[encoded data removed]",
      "text/plain": [
       "<Figure size 432x288 with 1 Axes>"
      ]
     },
     "metadata": {
      "needs_background": "light"
     },
     "output_type": "display_data"
    }
   ],
   "source": [
    "plt.plot(np.sort(ac_pred))\n",
    "plt.xlabel('Samples')\n",
    "plt.ylabel('Class Labels')"
   ]
  },
  {
   "cell_type": "markdown",
   "metadata": {
    "id": "uNa7g8XnvSBY"
   },
   "source": [
    "Distribution of Actual Data"
   ]
  },
  {
   "cell_type": "code",
   "execution_count": 50,
   "metadata": {
    "colab": {
     "base_uri": "https://localhost:8080/",
     "height": 296
    },
    "id": "W3weAcFftToy",
    "outputId": "64731fcb-27b9-490a-a9d1-cc62012a571d"
   },
   "outputs": [
    {
     "data": {
      "text/plain": [
       "Text(0, 0.5, 'Class Labels')"
      ]
     },
     "execution_count": 50,
     "metadata": {},
     "output_type": "execute_result"
    },
    {
     "data": {
      "image/png": "[encoded data removed]",
      "text/plain": [
       "<Figure size 432x288 with 1 Axes>"
      ]
     },
     "metadata": {
      "needs_background": "light"
     },
     "output_type": "display_data"
    }
   ],
   "source": [
    "plt.plot(np.sort(y))\n",
    "plt.xlabel('Samples')\n",
    "plt.ylabel('Class Labels')"
   ]
  },
  {
   "cell_type": "markdown",
   "metadata": {
    "id": "9OZFbOPdPeGv"
   },
   "source": [
    "Completeness Score of Agglomerative Clustering"
   ]
  },
  {
   "cell_type": "code",
   "execution_count": 51,
   "metadata": {
    "colab": {
     "base_uri": "https://localhost:8080/"
    },
    "id": "yNHBPFymiCPt",
    "outputId": "7d2d8e28-d158-4f91-b59a-62bfe6d132f6"
   },
   "outputs": [
    {
     "data": {
      "text/plain": [
       "0.6842045797030114"
      ]
     },
     "execution_count": 51,
     "metadata": {},
     "output_type": "execute_result"
    }
   ],
   "source": [
    "completeness_score(y, ac_pred)"
   ]
  },
  {
   "cell_type": "markdown",
   "metadata": {
    "id": "qA0ekEb_DEAP"
   },
   "source": [
    "## c. Spectral Clustering"
   ]
  },
  {
   "cell_type": "code",
   "execution_count": 52,
   "metadata": {
    "id": "9kVtD6PeDm10"
   },
   "outputs": [],
   "source": [
    "from sklearn.cluster import SpectralClustering\n",
    "\n",
    "sc = SpectralClustering(n_clusters=30, random_state=42, affinity='nearest_neighbors', assign_labels='discretize')\n",
    "sc_pred = sc.fit_predict(x)"
   ]
  },
  {
   "cell_type": "markdown",
   "metadata": {
    "id": "DUoIsw5tR6ci"
   },
   "source": [
    "Clusters Created by Spectral Clustering and Actual Class Labels"
   ]
  },
  {
   "cell_type": "code",
   "execution_count": 53,
   "metadata": {
    "colab": {
     "base_uri": "https://localhost:8080/",
     "height": 402
    },
    "id": "yOKBLvefSBOU",
    "outputId": "6329720b-b320-435b-9140-336cd96b2bcf"
   },
   "outputs": [
    {
     "data": {
      "text/html": [
       "<div>\n",
       "<style scoped>\n",
       "    .dataframe tbody tr th:only-of-type {\n",
       "        vertical-align: middle;\n",
       "    }\n",
       "\n",
       "    .dataframe tbody tr th {\n",
       "        vertical-align: top;\n",
       "    }\n",
       "\n",
       "    .dataframe thead th {\n",
       "        text-align: right;\n",
       "    }\n",
       "</style>\n",
       "<table border=\"1\" class=\"dataframe\">\n",
       "  <thead>\n",
       "    <tr style=\"text-align: right;\">\n",
       "      <th></th>\n",
       "      <th>Predicted_Cluster</th>\n",
       "      <th>True_Class_Label</th>\n",
       "    </tr>\n",
       "  </thead>\n",
       "  <tbody>\n",
       "    <tr>\n",
       "      <th>0</th>\n",
       "      <td>10</td>\n",
       "      <td>BUT.TRH</td>\n",
       "    </tr>\n",
       "    <tr>\n",
       "      <th>1</th>\n",
       "      <td>19</td>\n",
       "      <td>JNH.ZIJ</td>\n",
       "    </tr>\n",
       "    <tr>\n",
       "      <th>2</th>\n",
       "      <td>1</td>\n",
       "      <td>QWP.DRH BUT.YZE</td>\n",
       "    </tr>\n",
       "    <tr>\n",
       "      <th>3</th>\n",
       "      <td>16</td>\n",
       "      <td>NYV.XSY NYV.VCE</td>\n",
       "    </tr>\n",
       "    <tr>\n",
       "      <th>4</th>\n",
       "      <td>21</td>\n",
       "      <td>NYV.XSY</td>\n",
       "    </tr>\n",
       "    <tr>\n",
       "      <th>...</th>\n",
       "      <td>...</td>\n",
       "      <td>...</td>\n",
       "    </tr>\n",
       "    <tr>\n",
       "      <th>926</th>\n",
       "      <td>16</td>\n",
       "      <td>NYV.XSY NYV.VCE</td>\n",
       "    </tr>\n",
       "    <tr>\n",
       "      <th>927</th>\n",
       "      <td>28</td>\n",
       "      <td>RTO.JFR</td>\n",
       "    </tr>\n",
       "    <tr>\n",
       "      <th>928</th>\n",
       "      <td>9</td>\n",
       "      <td>VVJ.KSF</td>\n",
       "    </tr>\n",
       "    <tr>\n",
       "      <th>929</th>\n",
       "      <td>15</td>\n",
       "      <td>AUG.AEX</td>\n",
       "    </tr>\n",
       "    <tr>\n",
       "      <th>930</th>\n",
       "      <td>28</td>\n",
       "      <td>RTO.TQH</td>\n",
       "    </tr>\n",
       "  </tbody>\n",
       "</table>\n",
       "<p>931 rows × 2 columns</p>\n",
       "</div>"
      ],
      "text/plain": [
       "     Predicted_Cluster True_Class_Label\n",
       "0                   10          BUT.TRH\n",
       "1                   19          JNH.ZIJ\n",
       "2                    1  QWP.DRH BUT.YZE\n",
       "3                   16  NYV.XSY NYV.VCE\n",
       "4                   21          NYV.XSY\n",
       "..                 ...              ...\n",
       "926                 16  NYV.XSY NYV.VCE\n",
       "927                 28          RTO.JFR\n",
       "928                  9          VVJ.KSF\n",
       "929                 15          AUG.AEX\n",
       "930                 28          RTO.TQH\n",
       "\n",
       "[931 rows x 2 columns]"
      ]
     },
     "execution_count": 53,
     "metadata": {},
     "output_type": "execute_result"
    }
   ],
   "source": [
    "pd.concat([pd.DataFrame(sc_pred, columns=['Predicted_Cluster']), pd.DataFrame(y, columns=['True_Class_Label'])] ,axis=1)"
   ]
  },
  {
   "cell_type": "markdown",
   "metadata": {
    "id": "Mub2jUUvSLG-"
   },
   "source": [
    "Distribution of Clusters Created by Spectral Clustering"
   ]
  },
  {
   "cell_type": "code",
   "execution_count": 54,
   "metadata": {
    "colab": {
     "base_uri": "https://localhost:8080/",
     "height": 297
    },
    "id": "nCzCITBXSLb-",
    "outputId": "d6b71ac2-e44e-4305-94e7-62d5ece82a3c"
   },
   "outputs": [
    {
     "data": {
      "text/plain": [
       "Text(0, 0.5, 'Class Labels')"
      ]
     },
     "execution_count": 54,
     "metadata": {},
     "output_type": "execute_result"
    },
    {
     "data": {
      "image/png": "[encoded data removed]",
      "text/plain": [
       "<Figure size 432x288 with 1 Axes>"
      ]
     },
     "metadata": {
      "needs_background": "light"
     },
     "output_type": "display_data"
    }
   ],
   "source": [
    "plt.plot(np.sort(sc_pred))\n",
    "plt.xlabel('Samples')\n",
    "plt.ylabel('Class Labels')"
   ]
  },
  {
   "cell_type": "markdown",
   "metadata": {
    "id": "mBcsy4yxSQ4r"
   },
   "source": [
    "Distribution of Actual Data"
   ]
  },
  {
   "cell_type": "code",
   "execution_count": 55,
   "metadata": {
    "colab": {
     "base_uri": "https://localhost:8080/",
     "height": 296
    },
    "id": "V2Mdj4bSr5dQ",
    "outputId": "6129480f-c1a5-4203-ba14-82a4767e3b48"
   },
   "outputs": [
    {
     "data": {
      "text/plain": [
       "Text(0, 0.5, 'Class Labels')"
      ]
     },
     "execution_count": 55,
     "metadata": {},
     "output_type": "execute_result"
    },
    {
     "data": {
      "image/png": "[encoded data removed]",
      "text/plain": [
       "<Figure size 432x288 with 1 Axes>"
      ]
     },
     "metadata": {
      "needs_background": "light"
     },
     "output_type": "display_data"
    }
   ],
   "source": [
    "plt.plot(np.sort(y))\n",
    "plt.xlabel('Samples')\n",
    "plt.ylabel('Class Labels')"
   ]
  },
  {
   "cell_type": "markdown",
   "metadata": {
    "id": "N0NzKoohPfZO"
   },
   "source": [
    "Completeness Score of Spectral Clustering"
   ]
  },
  {
   "cell_type": "code",
   "execution_count": 56,
   "metadata": {
    "colab": {
     "base_uri": "https://localhost:8080/"
    },
    "id": "HbLAcjJEiHzm",
    "outputId": "f3988a5b-8758-4ef4-9dde-e6f8e5a9acc3"
   },
   "outputs": [
    {
     "data": {
      "text/plain": [
       "0.7100237700527976"
      ]
     },
     "execution_count": 56,
     "metadata": {},
     "output_type": "execute_result"
    }
   ],
   "source": [
    "completeness_score(y, sc_pred)"
   ]
  },
  {
   "cell_type": "markdown",
   "metadata": {
    "id": "cOCA1F3cSx7K"
   },
   "source": [
    "## d. Summary"
   ]
  },
  {
   "cell_type": "markdown",
   "metadata": {
    "id": "4ri4SqVfS2H2"
   },
   "source": [
    "Completeness Scores of Algorithms:\n",
    "* 0.645 with K-Means Clustering\n",
    "* 0.684 with Agglomerative Clustering\n",
    "* 0.710 with Spectral Clustering\n",
    "\n",
    "We can basically compare their performances by:\n",
    "\n",
    "Spectral Clustering > Agglomerative Clustering > K-Means Clustering\n",
    "\n",
    "We conclude that the best results are achived with Spectral Clustering, considering the completeness scores and similarities with the original data in terms of distribution of clusters. "
   ]
  }
 ],
 "metadata": {
  "colab": {
   "collapsed_sections": [],
   "name": "18011063.ipynb",
   "provenance": [],
   "toc_visible": true
  },
  "kernelspec": {
   "display_name": "Python 3",
   "language": "python",
   "name": "python3"
  },
  "language_info": {
   "codemirror_mode": {
    "name": "ipython",
    "version": 3
   },
   "file_extension": ".py",
   "mimetype": "text/x-python",
   "name": "python",
   "nbconvert_exporter": "python",
   "pygments_lexer": "ipython3",
   "version": "3.8.5"
  }
 },
 "nbformat": 4,
 "nbformat_minor": 1
}
